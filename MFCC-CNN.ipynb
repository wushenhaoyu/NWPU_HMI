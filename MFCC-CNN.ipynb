{
 "cells": [
  {
   "cell_type": "code",
   "id": "initial_id",
   "metadata": {
    "collapsed": true,
    "ExecuteTime": {
     "end_time": "2024-08-04T07:49:42.304546Z",
     "start_time": "2024-08-04T07:49:42.290122Z"
    }
   },
   "source": [
    "import torch.nn as nn\n",
    "import torch.nn.functional as F\n",
    "import torch.optim as optim\n",
    "from torch.utils.data import DataLoader,Dataset\n",
    "import os\n",
    "import sys\n",
    "import numpy\n",
    "import librosa\n",
    "import pandas as pd\n",
    "import numpy as np\n",
    "import librosa.display\n",
    "import matplotlib.pyplot as plt\n",
    "import torch"
   ],
   "outputs": [],
   "execution_count": 162
  },
  {
   "metadata": {
    "ExecuteTime": {
     "end_time": "2024-08-04T07:49:42.473552Z",
     "start_time": "2024-08-04T07:49:42.454975Z"
    }
   },
   "cell_type": "code",
   "source": [
    "audio_path = 'train/'\n",
    "students_num = [\"029\", \"033\", \"039\", \"045\", \"049\", \"068\", \"914\", \"918\", \"919\", \"934\", \"970\"]\n",
    "orders_num = [\"Takeoff\", \"Landing\", \"Advance\", \"Retreat\", \"Rise\"]\n",
    "repeat_num = ['1', '2', '3', '4']\n",
    "number_of_mfcc_features = 13\n",
    "orders_dic = {\n",
    "    'Takeoff': 0,\n",
    "    'Landing': 1,\n",
    "    'Advance': 2,\n",
    "    'Retreat': 3,\n",
    "    'Rise': 4\n",
    "}"
   ],
   "id": "8ffd114fbb13ad29",
   "outputs": [],
   "execution_count": 163
  },
  {
   "metadata": {
    "ExecuteTime": {
     "end_time": "2024-08-04T08:09:48.133859Z",
     "start_time": "2024-08-04T08:09:48.124549Z"
    }
   },
   "cell_type": "code",
   "source": [
    "def mfcc_extraction(path, students_num, orders_num, repeat_num):\n",
    "    labels = []\n",
    "    mfcc_features = []\n",
    "\n",
    "    for stu_num in students_num:\n",
    "        for index, order in enumerate(orders_num):\n",
    "            for repeat in repeat_num:\n",
    "                file_path = path + stu_num + '_' + str(index+1) + '_' + repeat + \".wav\"\n",
    "                if os.path.exists(file_path):\n",
    "                    x, sr = librosa.load(file_path)\n",
    "                    x = librosa.effects.preemphasis(x)  # 预加重处理\n",
    "                    mfccs = librosa.feature.mfcc(y=x, sr=sr, n_mfcc=number_of_mfcc_features)\n",
    "\n",
    "\n",
    "                    mfcc_features.append(mfccs)\n",
    "                    labels.append(order)\n",
    "                else:\n",
    "                    pass\n",
    "    return mfcc_features, labels"
   ],
   "id": "2e518186cfbba7e4",
   "outputs": [],
   "execution_count": 186
  },
  {
   "metadata": {
    "ExecuteTime": {
     "end_time": "2024-08-04T08:09:50.243672Z",
     "start_time": "2024-08-04T08:09:48.819042Z"
    }
   },
   "cell_type": "code",
   "source": [
    "mfcc_features_and_labels = mfcc_extraction(audio_path, students_num, orders_num, repeat_num)\n",
    "mfcc_features, mfcc_labels = mfcc_features_and_labels"
   ],
   "id": "df945ae2049e29fa",
   "outputs": [],
   "execution_count": 187
  },
  {
   "metadata": {
    "ExecuteTime": {
     "end_time": "2024-08-04T08:09:50.259363Z",
     "start_time": "2024-08-04T08:09:50.245258Z"
    }
   },
   "cell_type": "code",
   "source": "mfcc_labels = [orders_dic[label] for label in mfcc_labels]",
   "id": "6f9e0313213018a0",
   "outputs": [],
   "execution_count": 188
  },
  {
   "metadata": {
    "ExecuteTime": {
     "end_time": "2024-08-04T08:09:51.984613Z",
     "start_time": "2024-08-04T08:09:51.975039Z"
    }
   },
   "cell_type": "code",
   "source": [
    "class MFCC_DataSet(Dataset):\n",
    "    def __init__(self, features, labels):\n",
    "        self.features = features\n",
    "        self.labels = labels\n",
    "        \n",
    "    def __len__(self):\n",
    "        return len(self.features)\n",
    "    \n",
    "    def __getitem__(self, idx):\n",
    "        feature = self.features[idx]\n",
    "        label = self.labels[idx]\n",
    "        return feature, label"
   ],
   "id": "6ea3fb0aa8e49da",
   "outputs": [],
   "execution_count": 189
  },
  {
   "metadata": {
    "ExecuteTime": {
     "end_time": "2024-08-04T08:12:46.947244Z",
     "start_time": "2024-08-04T08:12:46.941995Z"
    }
   },
   "cell_type": "code",
   "source": [
    "dataset = MFCC_DataSet(mfcc_features, mfcc_labels)\n",
    "dataloader = DataLoader(dataset=dataset,shuffle=False)"
   ],
   "id": "4aeabce73e46d7c6",
   "outputs": [],
   "execution_count": 198
  },
  {
   "metadata": {
    "ExecuteTime": {
     "end_time": "2024-08-04T08:12:47.335543Z",
     "start_time": "2024-08-04T08:12:47.326451Z"
    }
   },
   "cell_type": "code",
   "source": [
    "for f , l in dataloader:\n",
    "    print(f.shape)\n",
    "    print(l.shape)"
   ],
   "id": "cb500b00b4d52bdf",
   "outputs": [
    {
     "name": "stdout",
     "output_type": "stream",
     "text": [
      "torch.Size([1, 13, 87])\n",
      "torch.Size([1])\n",
      "torch.Size([1, 13, 87])\n",
      "torch.Size([1])\n",
      "torch.Size([1, 13, 87])\n",
      "torch.Size([1])\n",
      "torch.Size([1, 13, 87])\n",
      "torch.Size([1])\n",
      "torch.Size([1, 13, 87])\n",
      "torch.Size([1])\n",
      "torch.Size([1, 13, 87])\n",
      "torch.Size([1])\n",
      "torch.Size([1, 13, 87])\n",
      "torch.Size([1])\n",
      "torch.Size([1, 13, 87])\n",
      "torch.Size([1])\n",
      "torch.Size([1, 13, 87])\n",
      "torch.Size([1])\n",
      "torch.Size([1, 13, 87])\n",
      "torch.Size([1])\n",
      "torch.Size([1, 13, 87])\n",
      "torch.Size([1])\n",
      "torch.Size([1, 13, 87])\n",
      "torch.Size([1])\n",
      "torch.Size([1, 13, 87])\n",
      "torch.Size([1])\n",
      "torch.Size([1, 13, 87])\n",
      "torch.Size([1])\n",
      "torch.Size([1, 13, 87])\n",
      "torch.Size([1])\n",
      "torch.Size([1, 13, 87])\n",
      "torch.Size([1])\n",
      "torch.Size([1, 13, 87])\n",
      "torch.Size([1])\n",
      "torch.Size([1, 13, 87])\n",
      "torch.Size([1])\n",
      "torch.Size([1, 13, 87])\n",
      "torch.Size([1])\n",
      "torch.Size([1, 13, 87])\n",
      "torch.Size([1])\n",
      "torch.Size([1, 13, 87])\n",
      "torch.Size([1])\n",
      "torch.Size([1, 13, 87])\n",
      "torch.Size([1])\n",
      "torch.Size([1, 13, 87])\n",
      "torch.Size([1])\n",
      "torch.Size([1, 13, 87])\n",
      "torch.Size([1])\n",
      "torch.Size([1, 13, 87])\n",
      "torch.Size([1])\n",
      "torch.Size([1, 13, 87])\n",
      "torch.Size([1])\n",
      "torch.Size([1, 13, 87])\n",
      "torch.Size([1])\n",
      "torch.Size([1, 13, 87])\n",
      "torch.Size([1])\n",
      "torch.Size([1, 13, 87])\n",
      "torch.Size([1])\n",
      "torch.Size([1, 13, 87])\n",
      "torch.Size([1])\n",
      "torch.Size([1, 13, 87])\n",
      "torch.Size([1])\n",
      "torch.Size([1, 13, 87])\n",
      "torch.Size([1])\n",
      "torch.Size([1, 13, 87])\n",
      "torch.Size([1])\n",
      "torch.Size([1, 13, 87])\n",
      "torch.Size([1])\n",
      "torch.Size([1, 13, 87])\n",
      "torch.Size([1])\n",
      "torch.Size([1, 13, 87])\n",
      "torch.Size([1])\n",
      "torch.Size([1, 13, 87])\n",
      "torch.Size([1])\n",
      "torch.Size([1, 13, 87])\n",
      "torch.Size([1])\n",
      "torch.Size([1, 13, 87])\n",
      "torch.Size([1])\n",
      "torch.Size([1, 13, 87])\n",
      "torch.Size([1])\n",
      "torch.Size([1, 13, 87])\n",
      "torch.Size([1])\n",
      "torch.Size([1, 13, 87])\n",
      "torch.Size([1])\n",
      "torch.Size([1, 13, 87])\n",
      "torch.Size([1])\n",
      "torch.Size([1, 13, 87])\n",
      "torch.Size([1])\n",
      "torch.Size([1, 13, 87])\n",
      "torch.Size([1])\n",
      "torch.Size([1, 13, 87])\n",
      "torch.Size([1])\n",
      "torch.Size([1, 13, 87])\n",
      "torch.Size([1])\n",
      "torch.Size([1, 13, 87])\n",
      "torch.Size([1])\n",
      "torch.Size([1, 13, 87])\n",
      "torch.Size([1])\n",
      "torch.Size([1, 13, 87])\n",
      "torch.Size([1])\n",
      "torch.Size([1, 13, 87])\n",
      "torch.Size([1])\n",
      "torch.Size([1, 13, 87])\n",
      "torch.Size([1])\n",
      "torch.Size([1, 13, 87])\n",
      "torch.Size([1])\n",
      "torch.Size([1, 13, 87])\n",
      "torch.Size([1])\n",
      "torch.Size([1, 13, 87])\n",
      "torch.Size([1])\n",
      "torch.Size([1, 13, 87])\n",
      "torch.Size([1])\n",
      "torch.Size([1, 13, 87])\n",
      "torch.Size([1])\n",
      "torch.Size([1, 13, 87])\n",
      "torch.Size([1])\n",
      "torch.Size([1, 13, 87])\n",
      "torch.Size([1])\n",
      "torch.Size([1, 13, 87])\n",
      "torch.Size([1])\n",
      "torch.Size([1, 13, 87])\n",
      "torch.Size([1])\n",
      "torch.Size([1, 13, 87])\n",
      "torch.Size([1])\n",
      "torch.Size([1, 13, 87])\n",
      "torch.Size([1])\n",
      "torch.Size([1, 13, 87])\n",
      "torch.Size([1])\n",
      "torch.Size([1, 13, 87])\n",
      "torch.Size([1])\n",
      "torch.Size([1, 13, 87])\n",
      "torch.Size([1])\n",
      "torch.Size([1, 13, 87])\n",
      "torch.Size([1])\n",
      "torch.Size([1, 13, 87])\n",
      "torch.Size([1])\n",
      "torch.Size([1, 13, 87])\n",
      "torch.Size([1])\n",
      "torch.Size([1, 13, 87])\n",
      "torch.Size([1])\n",
      "torch.Size([1, 13, 87])\n",
      "torch.Size([1])\n",
      "torch.Size([1, 13, 87])\n",
      "torch.Size([1])\n",
      "torch.Size([1, 13, 87])\n",
      "torch.Size([1])\n",
      "torch.Size([1, 13, 87])\n",
      "torch.Size([1])\n",
      "torch.Size([1, 13, 87])\n",
      "torch.Size([1])\n",
      "torch.Size([1, 13, 87])\n",
      "torch.Size([1])\n",
      "torch.Size([1, 13, 87])\n",
      "torch.Size([1])\n",
      "torch.Size([1, 13, 87])\n",
      "torch.Size([1])\n",
      "torch.Size([1, 13, 87])\n",
      "torch.Size([1])\n",
      "torch.Size([1, 13, 87])\n",
      "torch.Size([1])\n",
      "torch.Size([1, 13, 87])\n",
      "torch.Size([1])\n",
      "torch.Size([1, 13, 87])\n",
      "torch.Size([1])\n",
      "torch.Size([1, 13, 87])\n",
      "torch.Size([1])\n",
      "torch.Size([1, 13, 87])\n",
      "torch.Size([1])\n",
      "torch.Size([1, 13, 87])\n",
      "torch.Size([1])\n",
      "torch.Size([1, 13, 87])\n",
      "torch.Size([1])\n",
      "torch.Size([1, 13, 87])\n",
      "torch.Size([1])\n",
      "torch.Size([1, 13, 87])\n",
      "torch.Size([1])\n",
      "torch.Size([1, 13, 87])\n",
      "torch.Size([1])\n",
      "torch.Size([1, 13, 87])\n",
      "torch.Size([1])\n",
      "torch.Size([1, 13, 87])\n",
      "torch.Size([1])\n",
      "torch.Size([1, 13, 87])\n",
      "torch.Size([1])\n",
      "torch.Size([1, 13, 87])\n",
      "torch.Size([1])\n",
      "torch.Size([1, 13, 87])\n",
      "torch.Size([1])\n",
      "torch.Size([1, 13, 87])\n",
      "torch.Size([1])\n",
      "torch.Size([1, 13, 87])\n",
      "torch.Size([1])\n",
      "torch.Size([1, 13, 87])\n",
      "torch.Size([1])\n",
      "torch.Size([1, 13, 87])\n",
      "torch.Size([1])\n",
      "torch.Size([1, 13, 87])\n",
      "torch.Size([1])\n",
      "torch.Size([1, 13, 87])\n",
      "torch.Size([1])\n",
      "torch.Size([1, 13, 87])\n",
      "torch.Size([1])\n",
      "torch.Size([1, 13, 87])\n",
      "torch.Size([1])\n",
      "torch.Size([1, 13, 87])\n",
      "torch.Size([1])\n",
      "torch.Size([1, 13, 87])\n",
      "torch.Size([1])\n",
      "torch.Size([1, 13, 87])\n",
      "torch.Size([1])\n",
      "torch.Size([1, 13, 87])\n",
      "torch.Size([1])\n",
      "torch.Size([1, 13, 87])\n",
      "torch.Size([1])\n",
      "torch.Size([1, 13, 87])\n",
      "torch.Size([1])\n",
      "torch.Size([1, 13, 87])\n",
      "torch.Size([1])\n",
      "torch.Size([1, 13, 87])\n",
      "torch.Size([1])\n",
      "torch.Size([1, 13, 87])\n",
      "torch.Size([1])\n",
      "torch.Size([1, 13, 87])\n",
      "torch.Size([1])\n"
     ]
    }
   ],
   "execution_count": 199
  },
  {
   "metadata": {
    "ExecuteTime": {
     "end_time": "2024-08-04T08:21:12.455901Z",
     "start_time": "2024-08-04T08:21:12.449811Z"
    }
   },
   "cell_type": "code",
   "source": [
    "\n",
    "\n",
    "class MFCC_CNN(nn.Module):\n",
    "    def __init__(self, num_classes, num_coefficients, num_frames):\n",
    "        super(MFCC_CNN, self).__init__()\n",
    "        \n",
    "        self.conv1 = nn.Conv2d(1, 32, kernel_size=(3, 3))\n",
    "        self.relu1 = nn.ReLU()\n",
    "        self.pool1 = nn.MaxPool2d(kernel_size=(2, 2))\n",
    "        \n",
    "        self.conv2 = nn.Conv2d(32, 64, kernel_size=(3, 3))\n",
    "        self.relu2 = nn.ReLU()\n",
    "        self.pool2 = nn.MaxPool2d(kernel_size=(2, 2))\n",
    "        \n",
    "        # 计算 fc1 的输入维度\n",
    "        conv_out_channels = 64\n",
    "        conv_out_num_frames = (num_frames - 4) // 4 - 2\n",
    "        conv_out_num_coefficients = (num_coefficients - 4) // 4 - 2\n",
    "        \n",
    "        # 确保 conv_out_num_frames 和 conv_out_num_coefficients 不小于 0\n",
    "        conv_out_num_frames = max(0, conv_out_num_frames)\n",
    "        conv_out_num_coefficients = max(0, conv_out_num_coefficients)\n",
    "        \n",
    "        self.fc1 = nn.Linear(conv_out_channels * conv_out_num_frames * conv_out_num_coefficients, 128)\n",
    "        self.relu3 = nn.ReLU()\n",
    "        self.fc2 = nn.Linear(128, num_classes)\n",
    "        self.softmax = nn.Softmax(dim=1)\n",
    "        \n",
    "    def forward(self, x):\n",
    "        x = self.pool1(self.relu1(self.conv1(x)))\n",
    "        x = self.pool2(self.relu2(self.conv2(x)))\n",
    "        x = x.view(x.size(0), -1)  # 展平\n",
    "        x = self.relu3(self.fc1(x))\n",
    "        x = self.fc2(x)\n",
    "        x = self.softmax(x)\n",
    "        return x\n",
    "\n",
    "    "
   ],
   "id": "d5c2387fe65f5a74",
   "outputs": [],
   "execution_count": 208
  },
  {
   "metadata": {
    "ExecuteTime": {
     "end_time": "2024-08-04T08:21:12.734390Z",
     "start_time": "2024-08-04T08:21:12.723543Z"
    }
   },
   "cell_type": "code",
   "source": [
    "model = MFCC_CNN(num_classes=5, num_coefficients=13, num_frames=87)\n",
    "\n",
    "# 定义优化器和损失函数\n",
    "optimizer = optim.Adam(model.parameters(), lr=0.003)\n",
    "criterion = nn.CrossEntropyLoss()\n",
    "\n"
   ],
   "id": "cac15422e31c3d99",
   "outputs": [],
   "execution_count": 209
  },
  {
   "metadata": {
    "ExecuteTime": {
     "end_time": "2024-08-04T08:21:12.891228Z",
     "start_time": "2024-08-04T08:21:12.865181Z"
    }
   },
   "cell_type": "code",
   "source": [
    "epochs = 100\n",
    "for epoch in range(epochs):\n",
    "    for (labels, features) in enumerate(dataloader):\n",
    "        optimizer.zero_grad()\n",
    "        #print(features[0].shape)\n",
    "        # 前向传播\n",
    "        features = features[0].unsqueeze(1)\n",
    "        outputs = model(features)\n",
    "        \n",
    "        # 计算损失\n",
    "        labels = labels.squeeze()  # 去除不必要的维度\n",
    "        loss = criterion(outputs, labels)\n",
    "        \n",
    "        # 反向传播和优化\n",
    "        loss.backward()\n",
    "        optimizer.step()\n",
    "        \n",
    "        print('Epoch: {} \\tLoss: {:.6f}'.format(epoch, loss.item()))\n",
    "        print(outputs)"
   ],
   "id": "be02998bf23a098b",
   "outputs": [
    {
     "ename": "RuntimeError",
     "evalue": "mat1 and mat2 shapes cannot be multiplied (1x1280 and 0x128)",
     "output_type": "error",
     "traceback": [
      "\u001B[1;31m---------------------------------------------------------------------------\u001B[0m",
      "\u001B[1;31mRuntimeError\u001B[0m                              Traceback (most recent call last)",
      "\u001B[1;32m~\\AppData\\Local\\Temp\\ipykernel_88336\\1204156068.py\u001B[0m in \u001B[0;36m<module>\u001B[1;34m\u001B[0m\n\u001B[0;32m      6\u001B[0m         \u001B[1;31m# 前向传播\u001B[0m\u001B[1;33m\u001B[0m\u001B[1;33m\u001B[0m\u001B[1;33m\u001B[0m\u001B[0m\n\u001B[0;32m      7\u001B[0m         \u001B[0mfeatures\u001B[0m \u001B[1;33m=\u001B[0m \u001B[0mfeatures\u001B[0m\u001B[1;33m[\u001B[0m\u001B[1;36m0\u001B[0m\u001B[1;33m]\u001B[0m\u001B[1;33m.\u001B[0m\u001B[0munsqueeze\u001B[0m\u001B[1;33m(\u001B[0m\u001B[1;36m1\u001B[0m\u001B[1;33m)\u001B[0m\u001B[1;33m\u001B[0m\u001B[1;33m\u001B[0m\u001B[0m\n\u001B[1;32m----> 8\u001B[1;33m         \u001B[0moutputs\u001B[0m \u001B[1;33m=\u001B[0m \u001B[0mmodel\u001B[0m\u001B[1;33m(\u001B[0m\u001B[0mfeatures\u001B[0m\u001B[1;33m)\u001B[0m\u001B[1;33m\u001B[0m\u001B[1;33m\u001B[0m\u001B[0m\n\u001B[0m\u001B[0;32m      9\u001B[0m \u001B[1;33m\u001B[0m\u001B[0m\n\u001B[0;32m     10\u001B[0m         \u001B[1;31m# 计算损失\u001B[0m\u001B[1;33m\u001B[0m\u001B[1;33m\u001B[0m\u001B[1;33m\u001B[0m\u001B[0m\n",
      "\u001B[1;32m~\\anaconda3\\envs\\HMI\\lib\\site-packages\\torch\\nn\\modules\\module.py\u001B[0m in \u001B[0;36m_call_impl\u001B[1;34m(self, *input, **kwargs)\u001B[0m\n\u001B[0;32m   1100\u001B[0m         if not (self._backward_hooks or self._forward_hooks or self._forward_pre_hooks or _global_backward_hooks\n\u001B[0;32m   1101\u001B[0m                 or _global_forward_hooks or _global_forward_pre_hooks):\n\u001B[1;32m-> 1102\u001B[1;33m             \u001B[1;32mreturn\u001B[0m \u001B[0mforward_call\u001B[0m\u001B[1;33m(\u001B[0m\u001B[1;33m*\u001B[0m\u001B[0minput\u001B[0m\u001B[1;33m,\u001B[0m \u001B[1;33m**\u001B[0m\u001B[0mkwargs\u001B[0m\u001B[1;33m)\u001B[0m\u001B[1;33m\u001B[0m\u001B[1;33m\u001B[0m\u001B[0m\n\u001B[0m\u001B[0;32m   1103\u001B[0m         \u001B[1;31m# Do not call functions when jit is used\u001B[0m\u001B[1;33m\u001B[0m\u001B[1;33m\u001B[0m\u001B[1;33m\u001B[0m\u001B[0m\n\u001B[0;32m   1104\u001B[0m         \u001B[0mfull_backward_hooks\u001B[0m\u001B[1;33m,\u001B[0m \u001B[0mnon_full_backward_hooks\u001B[0m \u001B[1;33m=\u001B[0m \u001B[1;33m[\u001B[0m\u001B[1;33m]\u001B[0m\u001B[1;33m,\u001B[0m \u001B[1;33m[\u001B[0m\u001B[1;33m]\u001B[0m\u001B[1;33m\u001B[0m\u001B[1;33m\u001B[0m\u001B[0m\n",
      "\u001B[1;32m~\\AppData\\Local\\Temp\\ipykernel_88336\\3291647148.py\u001B[0m in \u001B[0;36mforward\u001B[1;34m(self, x)\u001B[0m\n\u001B[0;32m     29\u001B[0m         \u001B[0mx\u001B[0m \u001B[1;33m=\u001B[0m \u001B[0mself\u001B[0m\u001B[1;33m.\u001B[0m\u001B[0mpool2\u001B[0m\u001B[1;33m(\u001B[0m\u001B[0mself\u001B[0m\u001B[1;33m.\u001B[0m\u001B[0mrelu2\u001B[0m\u001B[1;33m(\u001B[0m\u001B[0mself\u001B[0m\u001B[1;33m.\u001B[0m\u001B[0mconv2\u001B[0m\u001B[1;33m(\u001B[0m\u001B[0mx\u001B[0m\u001B[1;33m)\u001B[0m\u001B[1;33m)\u001B[0m\u001B[1;33m)\u001B[0m\u001B[1;33m\u001B[0m\u001B[1;33m\u001B[0m\u001B[0m\n\u001B[0;32m     30\u001B[0m         \u001B[0mx\u001B[0m \u001B[1;33m=\u001B[0m \u001B[0mx\u001B[0m\u001B[1;33m.\u001B[0m\u001B[0mview\u001B[0m\u001B[1;33m(\u001B[0m\u001B[0mx\u001B[0m\u001B[1;33m.\u001B[0m\u001B[0msize\u001B[0m\u001B[1;33m(\u001B[0m\u001B[1;36m0\u001B[0m\u001B[1;33m)\u001B[0m\u001B[1;33m,\u001B[0m \u001B[1;33m-\u001B[0m\u001B[1;36m1\u001B[0m\u001B[1;33m)\u001B[0m  \u001B[1;31m# 展平\u001B[0m\u001B[1;33m\u001B[0m\u001B[1;33m\u001B[0m\u001B[0m\n\u001B[1;32m---> 31\u001B[1;33m         \u001B[0mx\u001B[0m \u001B[1;33m=\u001B[0m \u001B[0mself\u001B[0m\u001B[1;33m.\u001B[0m\u001B[0mrelu3\u001B[0m\u001B[1;33m(\u001B[0m\u001B[0mself\u001B[0m\u001B[1;33m.\u001B[0m\u001B[0mfc1\u001B[0m\u001B[1;33m(\u001B[0m\u001B[0mx\u001B[0m\u001B[1;33m)\u001B[0m\u001B[1;33m)\u001B[0m\u001B[1;33m\u001B[0m\u001B[1;33m\u001B[0m\u001B[0m\n\u001B[0m\u001B[0;32m     32\u001B[0m         \u001B[0mx\u001B[0m \u001B[1;33m=\u001B[0m \u001B[0mself\u001B[0m\u001B[1;33m.\u001B[0m\u001B[0mfc2\u001B[0m\u001B[1;33m(\u001B[0m\u001B[0mx\u001B[0m\u001B[1;33m)\u001B[0m\u001B[1;33m\u001B[0m\u001B[1;33m\u001B[0m\u001B[0m\n\u001B[0;32m     33\u001B[0m         \u001B[0mx\u001B[0m \u001B[1;33m=\u001B[0m \u001B[0mself\u001B[0m\u001B[1;33m.\u001B[0m\u001B[0msoftmax\u001B[0m\u001B[1;33m(\u001B[0m\u001B[0mx\u001B[0m\u001B[1;33m)\u001B[0m\u001B[1;33m\u001B[0m\u001B[1;33m\u001B[0m\u001B[0m\n",
      "\u001B[1;32m~\\anaconda3\\envs\\HMI\\lib\\site-packages\\torch\\nn\\modules\\module.py\u001B[0m in \u001B[0;36m_call_impl\u001B[1;34m(self, *input, **kwargs)\u001B[0m\n\u001B[0;32m   1100\u001B[0m         if not (self._backward_hooks or self._forward_hooks or self._forward_pre_hooks or _global_backward_hooks\n\u001B[0;32m   1101\u001B[0m                 or _global_forward_hooks or _global_forward_pre_hooks):\n\u001B[1;32m-> 1102\u001B[1;33m             \u001B[1;32mreturn\u001B[0m \u001B[0mforward_call\u001B[0m\u001B[1;33m(\u001B[0m\u001B[1;33m*\u001B[0m\u001B[0minput\u001B[0m\u001B[1;33m,\u001B[0m \u001B[1;33m**\u001B[0m\u001B[0mkwargs\u001B[0m\u001B[1;33m)\u001B[0m\u001B[1;33m\u001B[0m\u001B[1;33m\u001B[0m\u001B[0m\n\u001B[0m\u001B[0;32m   1103\u001B[0m         \u001B[1;31m# Do not call functions when jit is used\u001B[0m\u001B[1;33m\u001B[0m\u001B[1;33m\u001B[0m\u001B[1;33m\u001B[0m\u001B[0m\n\u001B[0;32m   1104\u001B[0m         \u001B[0mfull_backward_hooks\u001B[0m\u001B[1;33m,\u001B[0m \u001B[0mnon_full_backward_hooks\u001B[0m \u001B[1;33m=\u001B[0m \u001B[1;33m[\u001B[0m\u001B[1;33m]\u001B[0m\u001B[1;33m,\u001B[0m \u001B[1;33m[\u001B[0m\u001B[1;33m]\u001B[0m\u001B[1;33m\u001B[0m\u001B[1;33m\u001B[0m\u001B[0m\n",
      "\u001B[1;32m~\\anaconda3\\envs\\HMI\\lib\\site-packages\\torch\\nn\\modules\\linear.py\u001B[0m in \u001B[0;36mforward\u001B[1;34m(self, input)\u001B[0m\n\u001B[0;32m    101\u001B[0m \u001B[1;33m\u001B[0m\u001B[0m\n\u001B[0;32m    102\u001B[0m     \u001B[1;32mdef\u001B[0m \u001B[0mforward\u001B[0m\u001B[1;33m(\u001B[0m\u001B[0mself\u001B[0m\u001B[1;33m,\u001B[0m \u001B[0minput\u001B[0m\u001B[1;33m:\u001B[0m \u001B[0mTensor\u001B[0m\u001B[1;33m)\u001B[0m \u001B[1;33m->\u001B[0m \u001B[0mTensor\u001B[0m\u001B[1;33m:\u001B[0m\u001B[1;33m\u001B[0m\u001B[1;33m\u001B[0m\u001B[0m\n\u001B[1;32m--> 103\u001B[1;33m         \u001B[1;32mreturn\u001B[0m \u001B[0mF\u001B[0m\u001B[1;33m.\u001B[0m\u001B[0mlinear\u001B[0m\u001B[1;33m(\u001B[0m\u001B[0minput\u001B[0m\u001B[1;33m,\u001B[0m \u001B[0mself\u001B[0m\u001B[1;33m.\u001B[0m\u001B[0mweight\u001B[0m\u001B[1;33m,\u001B[0m \u001B[0mself\u001B[0m\u001B[1;33m.\u001B[0m\u001B[0mbias\u001B[0m\u001B[1;33m)\u001B[0m\u001B[1;33m\u001B[0m\u001B[1;33m\u001B[0m\u001B[0m\n\u001B[0m\u001B[0;32m    104\u001B[0m \u001B[1;33m\u001B[0m\u001B[0m\n\u001B[0;32m    105\u001B[0m     \u001B[1;32mdef\u001B[0m \u001B[0mextra_repr\u001B[0m\u001B[1;33m(\u001B[0m\u001B[0mself\u001B[0m\u001B[1;33m)\u001B[0m \u001B[1;33m->\u001B[0m \u001B[0mstr\u001B[0m\u001B[1;33m:\u001B[0m\u001B[1;33m\u001B[0m\u001B[1;33m\u001B[0m\u001B[0m\n",
      "\u001B[1;32m~\\anaconda3\\envs\\HMI\\lib\\site-packages\\torch\\nn\\functional.py\u001B[0m in \u001B[0;36mlinear\u001B[1;34m(input, weight, bias)\u001B[0m\n\u001B[0;32m   1846\u001B[0m     \u001B[1;32mif\u001B[0m \u001B[0mhas_torch_function_variadic\u001B[0m\u001B[1;33m(\u001B[0m\u001B[0minput\u001B[0m\u001B[1;33m,\u001B[0m \u001B[0mweight\u001B[0m\u001B[1;33m,\u001B[0m \u001B[0mbias\u001B[0m\u001B[1;33m)\u001B[0m\u001B[1;33m:\u001B[0m\u001B[1;33m\u001B[0m\u001B[1;33m\u001B[0m\u001B[0m\n\u001B[0;32m   1847\u001B[0m         \u001B[1;32mreturn\u001B[0m \u001B[0mhandle_torch_function\u001B[0m\u001B[1;33m(\u001B[0m\u001B[0mlinear\u001B[0m\u001B[1;33m,\u001B[0m \u001B[1;33m(\u001B[0m\u001B[0minput\u001B[0m\u001B[1;33m,\u001B[0m \u001B[0mweight\u001B[0m\u001B[1;33m,\u001B[0m \u001B[0mbias\u001B[0m\u001B[1;33m)\u001B[0m\u001B[1;33m,\u001B[0m \u001B[0minput\u001B[0m\u001B[1;33m,\u001B[0m \u001B[0mweight\u001B[0m\u001B[1;33m,\u001B[0m \u001B[0mbias\u001B[0m\u001B[1;33m=\u001B[0m\u001B[0mbias\u001B[0m\u001B[1;33m)\u001B[0m\u001B[1;33m\u001B[0m\u001B[1;33m\u001B[0m\u001B[0m\n\u001B[1;32m-> 1848\u001B[1;33m     \u001B[1;32mreturn\u001B[0m \u001B[0mtorch\u001B[0m\u001B[1;33m.\u001B[0m\u001B[0m_C\u001B[0m\u001B[1;33m.\u001B[0m\u001B[0m_nn\u001B[0m\u001B[1;33m.\u001B[0m\u001B[0mlinear\u001B[0m\u001B[1;33m(\u001B[0m\u001B[0minput\u001B[0m\u001B[1;33m,\u001B[0m \u001B[0mweight\u001B[0m\u001B[1;33m,\u001B[0m \u001B[0mbias\u001B[0m\u001B[1;33m)\u001B[0m\u001B[1;33m\u001B[0m\u001B[1;33m\u001B[0m\u001B[0m\n\u001B[0m\u001B[0;32m   1849\u001B[0m \u001B[1;33m\u001B[0m\u001B[0m\n\u001B[0;32m   1850\u001B[0m \u001B[1;33m\u001B[0m\u001B[0m\n",
      "\u001B[1;31mRuntimeError\u001B[0m: mat1 and mat2 shapes cannot be multiplied (1x1280 and 0x128)"
     ]
    }
   ],
   "execution_count": 210
  },
  {
   "metadata": {
    "ExecuteTime": {
     "end_time": "2024-08-04T08:21:13.032122Z",
     "start_time": "2024-08-04T08:21:13.022122Z"
    }
   },
   "cell_type": "code",
   "source": "",
   "id": "559c8fd7402cd7ea",
   "outputs": [],
   "execution_count": 210
  },
  {
   "metadata": {},
   "cell_type": "code",
   "outputs": [],
   "execution_count": null,
   "source": "",
   "id": "56f3f55578cbf27e"
  }
 ],
 "metadata": {
  "kernelspec": {
   "display_name": "Python 3",
   "language": "python",
   "name": "python3"
  },
  "language_info": {
   "codemirror_mode": {
    "name": "ipython",
    "version": 2
   },
   "file_extension": ".py",
   "mimetype": "text/x-python",
   "name": "python",
   "nbconvert_exporter": "python",
   "pygments_lexer": "ipython2",
   "version": "2.7.6"
  }
 },
 "nbformat": 4,
 "nbformat_minor": 5
}
