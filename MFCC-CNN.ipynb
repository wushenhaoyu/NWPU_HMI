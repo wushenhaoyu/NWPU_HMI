{
 "cells": [
  {
   "cell_type": "code",
   "id": "initial_id",
   "metadata": {
    "collapsed": true,
    "ExecuteTime": {
     "end_time": "2024-08-06T10:34:29.708831Z",
     "start_time": "2024-08-06T10:34:29.697299Z"
    }
   },
   "source": [
    "import os\n",
    "import torch\n",
    "import librosa\n",
    "import numpy as np\n",
    "import torch.nn as nn\n",
    "import librosa.display\n",
    "import torch.optim as optim\n",
    "import matplotlib.pyplot as plt\n",
    "import torch.nn.functional as F\n",
    "from torch.utils.data import DataLoader,Dataset"
   ],
   "outputs": [],
   "execution_count": 325
  },
  {
   "metadata": {
    "ExecuteTime": {
     "end_time": "2024-08-06T10:34:29.755499Z",
     "start_time": "2024-08-06T10:34:29.738058Z"
    }
   },
   "cell_type": "code",
   "source": [
    "audio_path = 'train/'\n",
    "students_num = [\"029\", \"033\", \"039\", \"045\", \"049\", \"068\", \"914\", \"918\", \"919\", \"934\", \"970\"]\n",
    "orders_num = [\"Takeoff\", \"Landing\", \"Advance\", \"Retreat\", \"Rise\"]\n",
    "repeat_num = ['1', '2', '3', '4']\n",
    "number_of_mfcc_features = 13\n",
    "orders_dic = {\n",
    "    'Takeoff': 0,\n",
    "    'Landing': 1,\n",
    "    'Advance': 2,\n",
    "    'Retreat': 3,\n",
    "    'Rise': 4\n",
    "}\n",
    "batch_size = 8"
   ],
   "id": "8ffd114fbb13ad29",
   "outputs": [],
   "execution_count": 326
  },
  {
   "metadata": {},
   "cell_type": "markdown",
   "source": "# 数据增强",
   "id": "2d82247da8cb4a7c"
  },
  {
   "metadata": {
    "ExecuteTime": {
     "end_time": "2024-08-06T10:34:29.771536Z",
     "start_time": "2024-08-06T10:34:29.757500Z"
    }
   },
   "cell_type": "code",
   "source": [
    "#添加噪音\n",
    "def add_noise(data, noise_factor = 0.015):\n",
    "    noise = noise_factor * np.random.randn(len(data))\n",
    "    data = data + noise\n",
    "    return data\n",
    "#延时\n",
    "def time_stretch(data, rate = 0.8):   #0.8倍速慢放\n",
    "    return librosa.effects.time_stretch(data, rate=rate)\n",
    "#时移\n",
    "def time_shift(data, sr, shift_time = 0.2):      #shift_time最大时移长度,单位 秒\n",
    "    shift = np.random.randint(-shift_time * sr,shift_time * sr)\n",
    "    #shift为负值，代表左移，为正值代表右移\n",
    "    return np.roll(data,shift)\n",
    "#增高音调\n",
    "def pitch(data, sr, pitch_factor = 0.5):\n",
    "    n_steps = pitch_factor * 12     #将音高偏移量pitch_factor转换为半音步数n_steps\n",
    "    #12是参数bins_per_octave的默认值，表示每个八度12个半音\n",
    "    return librosa.effects.pitch_shift(data,sr=sr,n_steps=n_steps)"
   ],
   "id": "df945ae2049e29fa",
   "outputs": [],
   "execution_count": 327
  },
  {
   "metadata": {},
   "cell_type": "markdown",
   "source": "# MFCC特征提取",
   "id": "e1ae06f8cfda941d"
  },
  {
   "metadata": {
    "ExecuteTime": {
     "end_time": "2024-08-06T10:34:29.787559Z",
     "start_time": "2024-08-06T10:34:29.774051Z"
    }
   },
   "cell_type": "code",
   "source": [
    "def mfcc_extraction(path, students_num, orders_num, repeat_num):\n",
    "    labels = []\n",
    "    mfcc_features = []\n",
    "    for stu_num in students_num:\n",
    "        for index, order in enumerate(orders_num):\n",
    "            for repeat in repeat_num:\n",
    "                file_path = path + stu_num + '_' + str(index+1) + '_' + repeat + \".wav\"\n",
    "                if os.path.exists(file_path):\n",
    "                    x, sr = librosa.load(file_path)\n",
    "                    x = librosa.effects.preemphasis(x)  # 预加重处理\n",
    "                    #数据增强\n",
    "                    x1 = add_noise(x)\n",
    "                    x2 = time_stretch(x)\n",
    "                    x3 = time_shift(x, sr)\n",
    "                    x4 = pitch(x, sr)\n",
    "                    mfccs = librosa.feature.mfcc(y=x, sr=sr, n_mfcc=number_of_mfcc_features).T\n",
    "                    mfcc_features.append(mfccs)\n",
    "                    labels.append(order)\n",
    "                    mfccs1 = librosa.feature.mfcc(y=x1, sr=sr, n_mfcc=number_of_mfcc_features).T\n",
    "                    mfcc_features.append(mfccs1)\n",
    "                    labels.append(order)\n",
    "                    mfccs2 = librosa.feature.mfcc(y=x2, sr=sr, n_mfcc=number_of_mfcc_features).T\n",
    "                    mfcc_features.append(mfccs2)\n",
    "                    labels.append(order)\n",
    "                    mfccs3 = librosa.feature.mfcc(y=x3, sr=sr, n_mfcc=number_of_mfcc_features).T\n",
    "                    mfcc_features.append(mfccs3)\n",
    "                    labels.append(order)\n",
    "                    mfccs4 = librosa.feature.mfcc(y=x4, sr=sr, n_mfcc=number_of_mfcc_features).T\n",
    "                    mfcc_features.append(mfccs4)\n",
    "                    labels.append(order)\n",
    "                else:\n",
    "                    pass\n",
    "    return mfcc_features, labels"
   ],
   "id": "3e178b85c82f4613",
   "outputs": [],
   "execution_count": 328
  },
  {
   "metadata": {
    "ExecuteTime": {
     "end_time": "2024-08-06T10:34:36.129519Z",
     "start_time": "2024-08-06T10:34:29.789560Z"
    }
   },
   "cell_type": "code",
   "source": [
    "mfcc_features_and_labels = mfcc_extraction(audio_path, students_num, orders_num, repeat_num)\n",
    "mfcc_features, mfcc_labels = mfcc_features_and_labels\n",
    "mfcc_labels = np.array(mfcc_labels)\n",
    "'''for feature in mfcc_features:\n",
    "    print(f'(num_frame,num_coefficients):{feature.shape}')'''"
   ],
   "id": "c716b5757efcbf73",
   "outputs": [
    {
     "data": {
      "text/plain": [
       "\"for feature in mfcc_features:\\n    print(f'(num_frame,num_coefficients):{feature.shape}')\""
      ]
     },
     "execution_count": 329,
     "metadata": {},
     "output_type": "execute_result"
    }
   ],
   "execution_count": 329
  },
  {
   "metadata": {},
   "cell_type": "markdown",
   "source": [
    "# 统一特征向量长度\n",
    "    特征向量长度不一，短的部分充0，使长度统一"
   ],
   "id": "e9ac5a07a98dc070"
  },
  {
   "metadata": {
    "ExecuteTime": {
     "end_time": "2024-08-06T10:34:36.161663Z",
     "start_time": "2024-08-06T10:34:36.131520Z"
    }
   },
   "cell_type": "code",
   "source": [
    "#mfcc_features = np.array(mfcc_features)\n",
    "def zero_pad(features):\n",
    "\n",
    "    new_spoken_train = []\n",
    "    max_shape = 0\n",
    "    for x in features:\n",
    "        all_shapes = x.shape[0]\n",
    "        if all_shapes > max_shape:\n",
    "            max_shape = all_shapes\n",
    "\n",
    "    for x in features:\n",
    "        difference = max_shape-x.shape[0]\n",
    "        zero_padded = np.pad(x,((0,difference),(0,0)), \"constant\")\n",
    "        new_spoken_train.append(zero_padded)\n",
    "\n",
    "    new_spoken_train = np.array(new_spoken_train)\n",
    "\n",
    "    return new_spoken_train\n",
    "\n",
    "mfcc_features = zero_pad(mfcc_features)\n",
    "print(mfcc_features.shape)"
   ],
   "id": "ef49366a00499c72",
   "outputs": [
    {
     "name": "stdout",
     "output_type": "stream",
     "text": [
      "(560, 108, 13)\n"
     ]
    }
   ],
   "execution_count": 330
  },
  {
   "metadata": {
    "ExecuteTime": {
     "end_time": "2024-08-06T06:57:44.014630Z",
     "start_time": "2024-08-06T06:57:44.000739Z"
    }
   },
   "cell_type": "markdown",
   "source": "# 数据标准化",
   "id": "209e5af7698a1506"
  },
  {
   "metadata": {
    "ExecuteTime": {
     "end_time": "2024-08-06T10:34:36.303764Z",
     "start_time": "2024-08-06T10:34:36.162886Z"
    }
   },
   "cell_type": "code",
   "source": [
    "from sklearn.preprocessing import StandardScaler\n",
    "from sklearn.preprocessing import RobustScaler\n",
    "flatten_mfcc_features = np.reshape(mfcc_features,(mfcc_features.shape[0],108 * 13))\n",
    "print(flatten_mfcc_features.shape)\n",
    "\n",
    "#标准化\n",
    "'''\n",
    "data = flatten_mfcc_features\n",
    "scaler = StandardScaler()\n",
    "mfcc_features = scaler.fit_transform(data)\n",
    "'''\n",
    "\n",
    "#鲁棒缩放，减小异常数据的影响\n",
    "data = flatten_mfcc_features\n",
    "scaler = RobustScaler()\n",
    "mfcc_features = scaler.fit_transform(data)\n",
    "\n",
    "from imblearn.over_sampling import RandomOverSampler\n",
    "ros = RandomOverSampler(random_state=42)\n",
    "new_mfcc_features,  mfcc_labels = ros.fit_resample(mfcc_features,  mfcc_labels)\n",
    "\n",
    "'''\n",
    "dictionary = {}\n",
    "for i in mfcc_labels:\n",
    "    dictionary[i] = dictionary.get(i,0) + 1\n",
    "print(dictionary)\n",
    "#>>>{'Takeoff': 120, 'Landing': 120, 'Advance': 120, 'Retreat': 120, 'Rise': 120}\n",
    "'''\n",
    "\n",
    "new_mfcc_features = np.reshape(new_mfcc_features,(new_mfcc_features.shape[0],108, 13))\n",
    "print(new_mfcc_features.shape)\n"
   ],
   "id": "6f9e0313213018a0",
   "outputs": [
    {
     "name": "stdout",
     "output_type": "stream",
     "text": [
      "(560, 1404)\n",
      "(600, 108, 13)\n"
     ]
    }
   ],
   "execution_count": 331
  },
  {
   "metadata": {},
   "cell_type": "markdown",
   "source": "# 划分训练集、测试集",
   "id": "82494e241444dc0b"
  },
  {
   "metadata": {
    "ExecuteTime": {
     "end_time": "2024-08-06T10:34:36.319785Z",
     "start_time": "2024-08-06T10:34:36.304742Z"
    }
   },
   "cell_type": "code",
   "source": [
    "from sklearn.model_selection import train_test_split\n",
    "mfcc_labels = [orders_dic[label] for label in mfcc_labels]\n",
    "X_train, X_test, y_train, y_test = train_test_split(new_mfcc_features, mfcc_labels, test_size=0.30,\n",
    "                                                    random_state=42, stratify = mfcc_labels, shuffle= True)"
   ],
   "id": "fd42a13a148cbff5",
   "outputs": [],
   "execution_count": 332
  },
  {
   "metadata": {
    "ExecuteTime": {
     "end_time": "2024-08-06T03:49:20.000331Z",
     "start_time": "2024-08-06T03:49:19.986713Z"
    }
   },
   "cell_type": "markdown",
   "source": "# 数据加载",
   "id": "79f2a7d2f77ab971"
  },
  {
   "metadata": {
    "ExecuteTime": {
     "end_time": "2024-08-06T10:34:36.335249Z",
     "start_time": "2024-08-06T10:34:36.321766Z"
    }
   },
   "cell_type": "code",
   "source": [
    "class MFCC_DataSet(Dataset):\n",
    "    def __init__(self, features, labels):\n",
    "        self.features = features\n",
    "        self.labels = labels\n",
    "        \n",
    "    def __len__(self):\n",
    "        return len(self.features)\n",
    "    \n",
    "    def __getitem__(self, idx):\n",
    "        feature = self.features[idx]\n",
    "        label = self.labels[idx]\n",
    "        return feature, label\n",
    "    \n",
    "#整合特征数据和标签\n",
    "train_dataset = MFCC_DataSet(X_train, y_train)\n",
    "test_dataset = MFCC_DataSet(X_test, y_test)\n",
    "#乱序的数据加载器\n",
    "train_dl = DataLoader(dataset=train_dataset,batch_size=batch_size,shuffle=True)\n",
    "test_dl = DataLoader(dataset=test_dataset,batch_size=batch_size,shuffle=True)\n",
    "\n",
    "    \n",
    "#遍历数据加载器元素\n",
    "#enumerate(data,start),start为输出的索引起始值，默认为0\n",
    "'''\n",
    "for i,batch in enumerate(train_dl,1):\n",
    "    print(f'batch:{i}:','x:',batch[0],\n",
    "          '\\n     y:',batch[1])\n",
    "    #输出特征数据张量大小\n",
    "    print(batch[0].shape)\n",
    "    #输出特征数据张量大小\n",
    "    print(batch[1].shape)\n",
    "'''"
   ],
   "id": "26f830e6f5a3aaf",
   "outputs": [
    {
     "data": {
      "text/plain": [
       "\"\\nfor i,batch in enumerate(train_dl,1):\\n    print(f'batch:{i}:','x:',batch[0],\\n          '\\n     y:',batch[1])\\n    #输出特征数据张量大小\\n    print(batch[0].shape)\\n    #输出特征数据张量大小\\n    print(batch[1].shape)\\n\""
      ]
     },
     "execution_count": 333,
     "metadata": {},
     "output_type": "execute_result"
    }
   ],
   "execution_count": 333
  },
  {
   "metadata": {
    "ExecuteTime": {
     "end_time": "2024-08-06T03:49:20.016436Z",
     "start_time": "2024-08-06T03:49:20.003303Z"
    }
   },
   "cell_type": "markdown",
   "source": "# 构建神经网络模型",
   "id": "26f58b9e5f408ef3"
  },
  {
   "metadata": {
    "ExecuteTime": {
     "end_time": "2024-08-06T10:34:36.350766Z",
     "start_time": "2024-08-06T10:34:36.337249Z"
    }
   },
   "cell_type": "code",
   "source": [
    "class MFCC_CNN(nn.Module):\n",
    "    def __init__(self):\n",
    "        super(MFCC_CNN, self).__init__()\n",
    "        #Conv2d采用NCHW格式，N代表批数据图像数量（batch_size），C代表通道数，H、W分别代表图像高和宽\n",
    "        #不考虑批数据维度时，第一个维度为通道数\n",
    "        self.conv1 = nn.Conv2d(in_channels=1, out_channels=32, kernel_size=3, stride=1, padding=1)\n",
    "        self.relu1 = nn.ReLU()\n",
    "        self.pool1 = nn.MaxPool2d(kernel_size=2)\n",
    "        self.conv2 = nn.Conv2d(in_channels=32, out_channels=64, kernel_size=3, stride=1, padding=1)\n",
    "        self.relu2 = nn.ReLU()\n",
    "        self.pool2 = nn.MaxPool2d(kernel_size=2)\n",
    "        self.dropout = nn.Dropout(0.5)      #添加 Dropout 层\n",
    "        \n",
    "        ''' # 计算 fc1 的输入维度\n",
    "        num_frame = 108  num_coefficients = 13\n",
    "        conv_out_channels = 64\n",
    "        pool1_out_frames = (num_frames - 2) // 2 + 1        #54\n",
    "        pool1_out_num_coefficients = (num_coefficients - 2) // 2 + 1        #6\n",
    "        \n",
    "        pool2_out_frames = (pool1_out_frames - 2) // 2 + 1      #27\n",
    "        pool2_out_num_coefficients = (pool1_out_num_coefficients - 2) // 2 + 1      #3  '''\n",
    "        \n",
    "        self.fc1 = nn.Linear(64 * 27 * 3, 2048)\n",
    "        self.fc2 = nn.Linear(2048, 5)\n",
    "        #self.softmax = nn.Softmax(dim=1)\n",
    "        \n",
    "    def forward(self, x):\n",
    "        x = x.unsqueeze(1)\n",
    "        x = self.pool1(self.relu1(self.conv1(x)))\n",
    "        x = self.pool2(self.relu2(self.conv2(x)))\n",
    "        x = x.view(x.size(0), -1)  # 展平\n",
    "        x = self.dropout(x)     #应用Dropout层\n",
    "        x = F.relu(self.fc1(x))\n",
    "        x = self.fc2(x)\n",
    "        #x = self.softmax(x)\n",
    "        return x\n"
   ],
   "id": "52c58a84d8a32f71",
   "outputs": [],
   "execution_count": 334
  },
  {
   "metadata": {},
   "cell_type": "markdown",
   "source": "# 训练网络模型",
   "id": "e8ad2fff42578919"
  },
  {
   "metadata": {
    "ExecuteTime": {
     "end_time": "2024-08-06T10:34:36.412284Z",
     "start_time": "2024-08-06T10:34:36.353866Z"
    }
   },
   "cell_type": "code",
   "source": [
    "#实例化\n",
    "model = MFCC_CNN()\n",
    "# 定义优化器和损失函数\n",
    "criterion = nn.CrossEntropyLoss()\n",
    "#CrossEntropyLoss损失函数已经包含了softmax激活函数\n",
    "optimizer = optim.Adam(model.parameters(), lr=0.001, weight_decay=1e-5)        #Adam优化器\n",
    "\n",
    "#开始训练\n",
    "def train(model,num_epochs,train_dl,test_dl):\n",
    "    #存储历史数据\n",
    "    loss_hist_train = [0]*num_epochs\n",
    "    accuracy_hist_train = [0]*num_epochs\n",
    "    loss_hist_test = [0]*num_epochs\n",
    "    accuracy_hist_test = [0]*num_epochs\n",
    "    \n",
    "    best_acc = 0\n",
    "    \n",
    "    for epoch in range(num_epochs):\n",
    "        model.train()\n",
    "        running_corrects_train = 0  # 用于记录每个 epoch 的训练准确度\n",
    "        running_loss_train = 0.0    # 用于记录每个 epoch 的训练损失\n",
    "        for x_batch, y_batch in train_dl:\n",
    "            x_batch = x_batch.float()\n",
    "            pred = model(x_batch)\n",
    "            loss = criterion(pred, y_batch)\n",
    "            optimizer.zero_grad()       #梯度归零\n",
    "            loss.backward()             #反向传输参数梯度值\n",
    "            optimizer.step()            #梯度下降执行参数更新   \n",
    "            '''\n",
    "            .item()用于张量只有一个元素时，将改张量的具体元素值转化为 int 或 float 型并返回\n",
    "            y_batch.szie(0) 等值于 batch_size，batch_size 影响加载 train_dl 时几个数据为一批 \n",
    "            相乘意为计算一个 epoch 内的损失之和\n",
    "            '''\n",
    "            '''\n",
    "            对于一个维度为(d0,d1) 的矩阵来说\n",
    "            dim=1表示求每一行中最大数的在该行中的列号，最后得到的就是一个维度为(d0,1) 的二维矩阵，最终列这一维度大小为1就要消失了，最终结果变成一维张量(d0)；\n",
    "            dim=0表示求每一列中最大数的在该列中的行号，最后得到的就是一个维度为(1,d1) 的二维矩阵，结果行这一维度大小为1就要消失了，最终结果变成一维张量(d1)。\n",
    "            '''\n",
    "            running_loss_train += loss.item() * x_batch.size(0)\n",
    "            is_correct = (torch.argmax(pred,dim=1) == y_batch)\n",
    "            running_corrects_train += is_correct.sum().item()\n",
    "        loss_hist_train[epoch] = running_loss_train/ len(train_dl.dataset)\n",
    "        accuracy_hist_train[epoch] =running_corrects_train / len(train_dl.dataset)\n",
    "        #len(train_dl) 返回的是数据加载器（DataLoader）中批次数量（batch_size）\n",
    "        #len(train_dl.dataset) 返回的是数据集（Dataset）中的样本数量\n",
    "        \n",
    "        model.eval()\n",
    "        running_corrects_test = 0  # 用于记录每个 epoch 的训练准确度\n",
    "        running_loss_test = 0.0    # 用于记录每个 epoch 的训练损失\n",
    "        #torch.no_grad()为一个上下文管理器，在之后的进程里不会进行梯度计算，减少内存使用\n",
    "        with torch.no_grad():\n",
    "            for x_batch, y_batch in test_dl:\n",
    "                x_batch = x_batch.float()\n",
    "                pred = model(x_batch)\n",
    "                loss = criterion(pred, y_batch)\n",
    "               \n",
    "                running_loss_test += loss.item() * x_batch.size(0)  \n",
    "                is_correct = (torch.argmax(pred,dim=1) == y_batch)\n",
    "                running_corrects_test += is_correct.sum().item()\n",
    "                \n",
    "        loss_hist_test[epoch] = running_loss_test / len(test_dl.dataset)\n",
    "        accuracy_hist_test[epoch] =running_corrects_test / len(test_dl.dataset)\n",
    "        # 记录最好的数据和模型参数\n",
    "        if accuracy_hist_test[epoch] > best_acc:\n",
    "            best_acc = accuracy_hist_test[epoch]\n",
    "            \n",
    "        print(f'Epoch{epoch+1} '\n",
    "              f'accuracy:{accuracy_hist_train[epoch]:.4f} '\n",
    "              f'test_accuracy:{accuracy_hist_test[epoch]:.4f} ')  \n",
    "    print(f'best_accuracy:{best_acc:.4f} ')\n",
    "    return loss_hist_train, loss_hist_test, accuracy_hist_train, accuracy_hist_test\n",
    "      "
   ],
   "id": "8c61852ab7af3845",
   "outputs": [],
   "execution_count": 335
  },
  {
   "metadata": {},
   "cell_type": "markdown",
   "source": "# 运行结果",
   "id": "b3b08ff39ec5c7d0"
  },
  {
   "metadata": {
    "ExecuteTime": {
     "end_time": "2024-08-06T10:38:27.774041Z",
     "start_time": "2024-08-06T10:34:36.414293Z"
    }
   },
   "cell_type": "code",
   "source": [
    "torch.manual_seed(1)\n",
    "num_epochs = 50\n",
    "hist = train(model, num_epochs, train_dl, test_dl)"
   ],
   "id": "be02998bf23a098b",
   "outputs": [
    {
     "name": "stdout",
     "output_type": "stream",
     "text": [
      "Epoch1 accuracy:0.2024 test_accuracy:0.2111 \n",
      "Epoch2 accuracy:0.2310 test_accuracy:0.2722 \n",
      "Epoch3 accuracy:0.4190 test_accuracy:0.4444 \n",
      "Epoch4 accuracy:0.5333 test_accuracy:0.4444 \n",
      "Epoch5 accuracy:0.5595 test_accuracy:0.4500 \n",
      "Epoch6 accuracy:0.6119 test_accuracy:0.5000 \n",
      "Epoch7 accuracy:0.6214 test_accuracy:0.5111 \n",
      "Epoch8 accuracy:0.7143 test_accuracy:0.5111 \n",
      "Epoch9 accuracy:0.7214 test_accuracy:0.5500 \n",
      "Epoch10 accuracy:0.7929 test_accuracy:0.5444 \n",
      "Epoch11 accuracy:0.7952 test_accuracy:0.6444 \n",
      "Epoch12 accuracy:0.8214 test_accuracy:0.6056 \n",
      "Epoch13 accuracy:0.8024 test_accuracy:0.6333 \n",
      "Epoch14 accuracy:0.8643 test_accuracy:0.5667 \n",
      "Epoch15 accuracy:0.8548 test_accuracy:0.6500 \n",
      "Epoch16 accuracy:0.8262 test_accuracy:0.6556 \n",
      "Epoch17 accuracy:0.8786 test_accuracy:0.6833 \n",
      "Epoch18 accuracy:0.9024 test_accuracy:0.6500 \n",
      "Epoch19 accuracy:0.9095 test_accuracy:0.6611 \n",
      "Epoch20 accuracy:0.9286 test_accuracy:0.7167 \n",
      "Epoch21 accuracy:0.9333 test_accuracy:0.6778 \n",
      "Epoch22 accuracy:0.9357 test_accuracy:0.6389 \n",
      "Epoch23 accuracy:0.9452 test_accuracy:0.6833 \n",
      "Epoch24 accuracy:0.9452 test_accuracy:0.6667 \n",
      "Epoch25 accuracy:0.9095 test_accuracy:0.6278 \n",
      "Epoch26 accuracy:0.9452 test_accuracy:0.6833 \n",
      "Epoch27 accuracy:0.9690 test_accuracy:0.6778 \n",
      "Epoch28 accuracy:0.9667 test_accuracy:0.7056 \n",
      "Epoch29 accuracy:0.9619 test_accuracy:0.6722 \n",
      "Epoch30 accuracy:0.9500 test_accuracy:0.6500 \n",
      "Epoch31 accuracy:0.9190 test_accuracy:0.6778 \n",
      "Epoch32 accuracy:0.9429 test_accuracy:0.6833 \n",
      "Epoch33 accuracy:0.9667 test_accuracy:0.6778 \n",
      "Epoch34 accuracy:0.9429 test_accuracy:0.6222 \n",
      "Epoch35 accuracy:0.9595 test_accuracy:0.6833 \n",
      "Epoch36 accuracy:0.9810 test_accuracy:0.6944 \n",
      "Epoch37 accuracy:0.9667 test_accuracy:0.7000 \n",
      "Epoch38 accuracy:0.9857 test_accuracy:0.7111 \n",
      "Epoch39 accuracy:0.9810 test_accuracy:0.7056 \n",
      "Epoch40 accuracy:0.9738 test_accuracy:0.6500 \n",
      "Epoch41 accuracy:0.9786 test_accuracy:0.6944 \n",
      "Epoch42 accuracy:0.9857 test_accuracy:0.6722 \n",
      "Epoch43 accuracy:0.9833 test_accuracy:0.6722 \n",
      "Epoch44 accuracy:0.9786 test_accuracy:0.6500 \n",
      "Epoch45 accuracy:0.9381 test_accuracy:0.6833 \n",
      "Epoch46 accuracy:0.9619 test_accuracy:0.6667 \n",
      "Epoch47 accuracy:0.9810 test_accuracy:0.6889 \n",
      "Epoch48 accuracy:0.9881 test_accuracy:0.6722 \n",
      "Epoch49 accuracy:0.9857 test_accuracy:0.6944 \n",
      "Epoch50 accuracy:0.9833 test_accuracy:0.7167 \n",
      "best_accuracy:0.7167 \n"
     ]
    }
   ],
   "execution_count": 336
  },
  {
   "metadata": {},
   "cell_type": "markdown",
   "source": "# 画 Loss 和 Accuracy 图",
   "id": "8c4f0104a775a3cd"
  },
  {
   "metadata": {
    "ExecuteTime": {
     "end_time": "2024-08-06T10:38:27.977754Z",
     "start_time": "2024-08-06T10:38:27.776023Z"
    }
   },
   "cell_type": "code",
   "source": [
    "x_arr = np.arange(len(hist[0])) + 1\n",
    "fig = plt.figure(figsize = (12,4))\n",
    "ax = fig.add_subplot(121)\n",
    "ax.plot(x_arr, hist[0], label='Train Loss')\n",
    "ax.plot(x_arr, hist[1], label='Test Loss')\n",
    "ax.legend(fontsize = 'small')\n",
    "ax = fig.add_subplot(122)\n",
    "ax.plot(x_arr, hist[2], label='Train Accuracy')\n",
    "ax.plot(x_arr, hist[3], label='Test Accuracy')\n",
    "ax.legend(fontsize = 'small')\n",
    "ax.set_xlabel('Epoch', fontsize = 'small')\n",
    "ax.set_ylabel('Accuracy', fontsize = 'small')\n",
    "plt.show()\n"
   ],
   "id": "f4705121d5a11836",
   "outputs": [
    {
     "data": {
      "text/plain": [
       "<Figure size 1200x400 with 2 Axes>"
      ],
      "image/png": "[encoded data removed]"
     },
     "metadata": {},
     "output_type": "display_data"
    }
   ],
   "execution_count": 337
  },
  {
   "metadata": {},
   "cell_type": "markdown",
   "source": "",
   "id": "2be40686831fc044"
  }
 ],
 "metadata": {
  "kernelspec": {
   "display_name": "Python 3",
   "language": "python",
   "name": "python3"
  },
  "language_info": {
   "codemirror_mode": {
    "name": "ipython",
    "version": 2
   },
   "file_extension": ".py",
   "mimetype": "text/x-python",
   "name": "python",
   "nbconvert_exporter": "python",
   "pygments_lexer": "ipython2",
   "version": "2.7.6"
  }
 },
 "nbformat": 4,
 "nbformat_minor": 5
}
