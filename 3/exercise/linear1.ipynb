{
 "cells": [
  {
   "cell_type": "code",
   "execution_count": 1,
   "id": "initial_id",
   "metadata": {
    "collapsed": true,
    "ExecuteTime": {
     "end_time": "2024-03-21T10:09:19.168819Z",
     "start_time": "2024-03-21T10:09:15.747493Z"
    }
   },
   "outputs": [],
   "source": [
    "import numpy as np\n",
    "import torch\n",
    "from torch.utils import data\n",
    "from d2l import torch as d2l\n",
    "\n",
    "true_w = torch.tensor([2, -3.4])\n",
    "true_b = 4.2\n",
    "features, labels = d2l.synthetic_data(true_w, true_b, 1000)"
   ]
  },
  {
   "cell_type": "code",
   "outputs": [],
   "source": [
    "def load_array(data_arrays, batch_size, is_train=True):  #@save\n",
    "    \"\"\"构造一个PyTorch数据迭代器\"\"\"\n",
    "    dataset = data.TensorDataset(*data_arrays)\n",
    "    return data.DataLoader(dataset, batch_size, shuffle=is_train)\n",
    "\n",
    "batch_size = 10\n",
    "data_iter = load_array((features, labels), batch_size)"
   ],
   "metadata": {
    "collapsed": false,
    "ExecuteTime": {
     "end_time": "2024-03-21T10:09:32.777970Z",
     "start_time": "2024-03-21T10:09:32.773374Z"
    }
   },
   "id": "2d0f6138fc0f6183",
   "execution_count": 2
  },
  {
   "cell_type": "code",
   "outputs": [
    {
     "data": {
      "text/plain": "[tensor([[-0.7177, -1.6858],\n         [-1.2326,  2.1632],\n         [ 1.1896,  1.4768],\n         [ 0.3161,  0.7707],\n         [ 0.1504,  1.6484],\n         [ 0.7847, -0.1050],\n         [-0.9554, -1.2262],\n         [-0.0518,  1.8418],\n         [-0.2448,  1.1826],\n         [-0.1560, -0.2865]]),\n tensor([[ 8.4931],\n         [-5.6066],\n         [ 1.5652],\n         [ 2.1974],\n         [-1.0977],\n         [ 6.1146],\n         [ 6.4679],\n         [-2.1602],\n         [-0.3117],\n         [ 4.8676]])]"
     },
     "execution_count": 3,
     "metadata": {},
     "output_type": "execute_result"
    }
   ],
   "source": [
    "next(iter(data_iter))"
   ],
   "metadata": {
    "collapsed": false,
    "ExecuteTime": {
     "end_time": "2024-03-21T10:09:40.017146Z",
     "start_time": "2024-03-21T10:09:40.010549Z"
    }
   },
   "id": "8811534df21493c3",
   "execution_count": 3
  },
  {
   "cell_type": "code",
   "outputs": [],
   "source": [
    "from torch import nn\n",
    "\n",
    "net = nn.Sequential(nn.Linear(2,1))"
   ],
   "metadata": {
    "collapsed": false,
    "ExecuteTime": {
     "end_time": "2024-03-21T10:10:33.939205Z",
     "start_time": "2024-03-21T10:10:33.935806Z"
    }
   },
   "id": "ecce7b40cc900306",
   "execution_count": 4
  },
  {
   "cell_type": "code",
   "outputs": [
    {
     "data": {
      "text/plain": "tensor([0.])"
     },
     "execution_count": 5,
     "metadata": {},
     "output_type": "execute_result"
    }
   ],
   "source": [
    "net[0].weight.data.normal_(0,0.01)\n",
    "net[0].bias.data.fill_(0)"
   ],
   "metadata": {
    "collapsed": false,
    "ExecuteTime": {
     "end_time": "2024-03-21T10:11:25.550744Z",
     "start_time": "2024-03-21T10:11:25.545268Z"
    }
   },
   "id": "56e99921108bb772",
   "execution_count": 5
  },
  {
   "cell_type": "code",
   "outputs": [],
   "source": [
    "loss = nn.MSELoss()"
   ],
   "metadata": {
    "collapsed": false,
    "ExecuteTime": {
     "end_time": "2024-03-21T10:11:35.962228Z",
     "start_time": "2024-03-21T10:11:35.959362Z"
    }
   },
   "id": "d36e6e6115c47903",
   "execution_count": 6
  },
  {
   "cell_type": "code",
   "outputs": [],
   "source": [
    "trainer = torch.optim.SGD(net.parameters(),lr= 0.03)"
   ],
   "metadata": {
    "collapsed": false,
    "ExecuteTime": {
     "end_time": "2024-03-21T10:12:01.734907Z",
     "start_time": "2024-03-21T10:12:01.730742Z"
    }
   },
   "id": "2dce7f70b568d241",
   "execution_count": 7
  },
  {
   "cell_type": "code",
   "outputs": [],
   "source": [
    "num_epochs = 3\n",
    "for epoch in range(num_epochs):\n",
    "    for X , y in data_iter:\n",
    "        l = loss(net(X),y)\n",
    "        trainer.zero_grad()\n",
    "        l.backward()\n",
    "        trainer.step()\n",
    "    l = loss(net(features),labels)"
   ],
   "metadata": {
    "collapsed": false
   },
   "id": "18bf75d31ed5aec7"
  }
 ],
 "metadata": {
  "kernelspec": {
   "display_name": "Python 3",
   "language": "python",
   "name": "python3"
  },
  "language_info": {
   "codemirror_mode": {
    "name": "ipython",
    "version": 2
   },
   "file_extension": ".py",
   "mimetype": "text/x-python",
   "name": "python",
   "nbconvert_exporter": "python",
   "pygments_lexer": "ipython2",
   "version": "2.7.6"
  }
 },
 "nbformat": 4,
 "nbformat_minor": 5
}
