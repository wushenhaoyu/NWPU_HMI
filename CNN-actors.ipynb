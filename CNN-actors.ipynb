{
 "cells": [
  {
   "cell_type": "code",
   "id": "initial_id",
   "metadata": {
    "collapsed": true,
    "ExecuteTime": {
     "end_time": "2024-08-06T08:36:05.749333Z",
     "start_time": "2024-08-06T08:36:05.714225Z"
    }
   },
   "source": [
    "import torch.nn as nn\n",
    "import torch.nn.functional as F\n",
    "import torch.optim as optim\n",
    "from torch.utils.data import DataLoader,Dataset\n",
    "import os\n",
    "import sys\n",
    "import numpy\n",
    "import librosa\n",
    "import pandas as pd\n",
    "import numpy as np\n",
    "import librosa.display\n",
    "import matplotlib.pyplot as plt\n",
    "import torch"
   ],
   "outputs": [],
   "execution_count": 42
  },
  {
   "metadata": {
    "ExecuteTime": {
     "end_time": "2024-08-06T08:36:05.764848Z",
     "start_time": "2024-08-06T08:36:05.752333Z"
    }
   },
   "cell_type": "code",
   "source": [
    "'''audio_path = 'train/'\n",
    "students_num = [\"029\", \"033\", \"039\", \"045\", \"049\", \"068\", \"914\", \"918\", \"919\", \"934\", \"970\"]\n",
    "orders_num = [\"Takeoff\", \"Landing\", \"Advance\", \"Retreat\", \"Rise\"]\n",
    "repeat_num = ['1', '2', '3', '4']\n",
    "number_of_mfcc_features = 13\n",
    "orders_dic = {\n",
    "    'Takeoff': 0,\n",
    "    'Landing': 1,\n",
    "    'Advance': 2,\n",
    "    'Retreat': 3,\n",
    "    'Rise': 4\n",
    "}\n",
    "'''\n",
    "batch_size = 64"
   ],
   "id": "8ffd114fbb13ad29",
   "outputs": [],
   "execution_count": 43
  },
  {
   "metadata": {
    "ExecuteTime": {
     "end_time": "2024-08-06T08:36:17.419630Z",
     "start_time": "2024-08-06T08:36:05.766847Z"
    }
   },
   "cell_type": "code",
   "source": [
    "\n",
    "my_path = 'audio_speech_actors_01-24/'\n",
    "\n",
    "\n",
    "emotions_num = [\"Neutral-01\",\"Calm-02\",\"Happy-03\",\"Sad-04\",\"Angry-05\",\"Fearful-06\",\"Disgust-07\",\"Surprised-08\"]\n",
    "actors = [\"01\",\"02\",\"03\",\"04\",\"05\",\"06\",\"07\",\"08\",\"09\",\"10\",\"11\",\"12\",\n",
    "         \"13\",\"14\",\"15\",\"16\",\"17\",\"18\",\"19\",\"20\",\"21\",\"22\",\"23\",\"24\"]\n",
    "\n",
    "orders_dic = {\n",
    "    'Neutral': 0,\n",
    "    'Calm': 1,\n",
    "    'Happy': 2,\n",
    "    'Sad': 3,\n",
    "    'Angry': 4,\n",
    "    'Fearful':5,\n",
    "    'Disgust':6,\n",
    "    'Surprised':7\n",
    "}\n",
    "def mfcc_extraction(path, modal_vocal, emotions_num, actors):\n",
    "    labels = []\n",
    "    mfcc_features = []\n",
    "    \n",
    "    #with repetition number: 1 and statement number 1 and emotional intensity number #1\n",
    "    for index1,emotion_num in enumerate(emotions_num):\n",
    "        for index,actor in enumerate(actors):\n",
    "            sig, rate = librosa.load(path+modal_vocal+emotion_num[-2:]+\"-01-01-01-\"+actor+\".wav\", sr=16000)\n",
    "            mfcc_feat = librosa.feature.mfcc(y=sig,sr=rate,n_mfcc=13).T\n",
    "            mfcc_features.append(mfcc_feat)\n",
    "            \n",
    "            labels.append(emotion_num[:-3])\n",
    "    \n",
    "    #with repetition number: 1 and statement number 2 and emotional intensity number 1\n",
    "    for index1,emotion_num in enumerate(emotions_num):\n",
    "        for index,actor in enumerate(actors):\n",
    "            sig, rate = librosa.load(path+modal_vocal+emotion_num[-2:]+\"-01-02-01-\"+actor+\".wav\", sr=16000)\n",
    "            mfcc_feat = librosa.feature.mfcc(y=sig,sr=rate,n_mfcc=13).T\n",
    "            mfcc_features.append(mfcc_feat)\n",
    "            \n",
    "            labels.append(emotion_num[:-3])\n",
    "            \n",
    "    #with repetition number: 2 and statement number 1 and emotional intensity number #1\n",
    "    for index1,emotion_num in enumerate(emotions_num):\n",
    "        for index,actor in enumerate(actors):\n",
    "            sig, rate = librosa.load(path+modal_vocal+emotion_num[-2:]+\"-01-01-02-\"+actor+\".wav\", sr=16000)\n",
    "            mfcc_feat = librosa.feature.mfcc(y=sig,sr=rate,n_mfcc=13).T\n",
    "            mfcc_features.append(mfcc_feat)\n",
    "            \n",
    "            labels.append(emotion_num[:-3])\n",
    "            \n",
    "    #with repetition number: 2 and statement number 2 and emotional intensity number 1\n",
    "    for index1,emotion_num in enumerate(emotions_num):\n",
    "        for index,actor in enumerate(actors):\n",
    "            sig, rate = librosa.load(path+modal_vocal+emotion_num[-2:]+\"-01-02-02-\"+actor+\".wav\", sr=16000)\n",
    "            mfcc_feat = librosa.feature.mfcc(y=sig,sr=rate,n_mfcc=13).T\n",
    "            mfcc_features.append(mfcc_feat)\n",
    "            \n",
    "            labels.append(emotion_num[:-3])\n",
    "    \n",
    "    #with repetition number: 1 and statement number 1 and emotional intensity number #2\n",
    "    for index1,emotion_num in enumerate(emotions_num):\n",
    "        for index,actor in enumerate(actors):\n",
    "            if emotion_num != \"Neutral-01\":\n",
    "                sig, rate = librosa.load(path+modal_vocal+emotion_num[-2:]+\"-02-01-01-\"+actor+\".wav\", sr=16000)\n",
    "                mfcc_feat = librosa.feature.mfcc(y=sig,sr=rate,n_mfcc=13).T\n",
    "                mfcc_features.append(mfcc_feat)\n",
    "                \n",
    "                labels.append(emotion_num[:-3])\n",
    "    \n",
    "    #with repetition number: 1 and statement number 2 and emotional intensity number 2\n",
    "    for index1,emotion_num in enumerate(emotions_num):\n",
    "        for index,actor in enumerate(actors):\n",
    "            if emotion_num != \"Neutral-01\":\n",
    "                sig, rate = librosa.load(path+modal_vocal+emotion_num[-2:]+\"-02-02-01-\"+actor+\".wav\", sr=16000)\n",
    "                mfcc_feat = librosa.feature.mfcc(y=sig,sr=rate,n_mfcc=13).T\n",
    "                mfcc_features.append(mfcc_feat)\n",
    "                \n",
    "                labels.append(emotion_num[:-3])\n",
    "            \n",
    "    #with repetition number: 2 and statement number 1 and emotional intensity number #2\n",
    "    for index1,emotion_num in enumerate(emotions_num):\n",
    "        for index,actor in enumerate(actors):\n",
    "            if emotion_num != \"Neutral-01\":\n",
    "                sig, rate = librosa.load(path+modal_vocal+emotion_num[-2:]+\"-02-01-02-\"+actor+\".wav\", sr=16000)\n",
    "                mfcc_feat = librosa.feature.mfcc(y=sig,sr=rate,n_mfcc=13).T\n",
    "                mfcc_features.append(mfcc_feat)\n",
    "                \n",
    "                labels.append(emotion_num[:-3])\n",
    "            \n",
    "    #with repetition number: 2 and statement number 2 and emotional intensity number 2\n",
    "    for index1,emotion_num in enumerate(emotions_num):\n",
    "        for index,actor in enumerate(actors):\n",
    "            if emotion_num != \"Neutral-01\":\n",
    "                sig, rate = librosa.load(path+modal_vocal+emotion_num[-2:]+\"-02-02-02-\"+actor+\".wav\", sr=16000)\n",
    "                mfcc_feat = librosa.feature.mfcc(y=sig,sr=rate,n_mfcc=13).T\n",
    "                mfcc_features.append(mfcc_feat)\n",
    "                \n",
    "                labels.append(emotion_num[:-3])      \n",
    "\n",
    "    return mfcc_features, labels\n",
    "\n",
    "\n",
    "mfcc_features_and_labels = mfcc_extraction(my_path,'/03-01-', emotions_num, actors)"
   ],
   "id": "2e518186cfbba7e4",
   "outputs": [],
   "execution_count": 44
  },
  {
   "metadata": {
    "ExecuteTime": {
     "end_time": "2024-08-06T08:36:17.480617Z",
     "start_time": "2024-08-06T08:36:17.421607Z"
    }
   },
   "cell_type": "code",
   "source": [
    "mfcc_features, mfcc_labels = mfcc_features_and_labels\n",
    "mfcc_labels = np.array(mfcc_labels)\n",
    "print(\"feature shape:\", mfcc_features[1].shape)\n",
    "def zero_pad(features):\n",
    "    \n",
    "    new_spoken_train = []\n",
    "    max_shape = 0\n",
    "    for x in features:\n",
    "        all_shapes = x.shape[0]\n",
    "        if all_shapes > max_shape:\n",
    "            max_shape = all_shapes\n",
    "\n",
    "    for x in features:\n",
    "        difference = max_shape-x.shape[0]\n",
    "        zero_padded = np.pad(x,((0,difference),(0,0)), \"constant\")\n",
    "        new_spoken_train.append(zero_padded)\n",
    "\n",
    "    new_spoken_train = np.array(new_spoken_train)\n",
    "    \n",
    "    return new_spoken_train\n",
    "\n",
    "mfcc_features = zero_pad(mfcc_features)\n",
    "print(mfcc_features.shape)\n",
    "\n",
    "#mfcc_labels = np.array(mfcc_labels)"
   ],
   "id": "df945ae2049e29fa",
   "outputs": [
    {
     "name": "stdout",
     "output_type": "stream",
     "text": [
      "feature shape: (114, 13)\n",
      "(1440, 165, 13)\n"
     ]
    }
   ],
   "execution_count": 45
  },
  {
   "metadata": {
    "ExecuteTime": {
     "end_time": "2024-08-06T08:36:17.496670Z",
     "start_time": "2024-08-06T08:36:17.483168Z"
    }
   },
   "cell_type": "code",
   "source": [
    "print(mfcc_labels)\n",
    "print(np.array(mfcc_labels))\n",
    "print(np.array(mfcc_labels).shape)\n",
    "print(np.array(mfcc_features).shape)"
   ],
   "id": "c716b5757efcbf73",
   "outputs": [
    {
     "name": "stdout",
     "output_type": "stream",
     "text": [
      "['Neutral' 'Neutral' 'Neutral' ... 'Surprised' 'Surprised' 'Surprised']\n",
      "['Neutral' 'Neutral' 'Neutral' ... 'Surprised' 'Surprised' 'Surprised']\n",
      "(1440,)\n",
      "(1440, 165, 13)\n"
     ]
    }
   ],
   "execution_count": 46
  },
  {
   "metadata": {},
   "cell_type": "markdown",
   "source": "# 数据标准化",
   "id": "65a1c2b490666f5b"
  },
  {
   "metadata": {
    "ExecuteTime": {
     "end_time": "2024-08-06T08:36:17.558099Z",
     "start_time": "2024-08-06T08:36:17.499192Z"
    }
   },
   "cell_type": "code",
   "source": [
    "flatten_mfcc_features = np.reshape(mfcc_features,(mfcc_features.shape[0],165 * 13))\n",
    "print(flatten_mfcc_features.shape)\n",
    "from sklearn.preprocessing import StandardScaler\n",
    "\n",
    "data = flatten_mfcc_features\n",
    "scaler = StandardScaler()\n",
    "mfcc_features = scaler.fit_transform(data)\n",
    "\n",
    "new_mfcc_features = np.reshape(mfcc_features,(mfcc_features.shape[0],165, 13))\n",
    "print(new_mfcc_features[0])"
   ],
   "id": "e7b0ab8cb7856d1a",
   "outputs": [
    {
     "name": "stdout",
     "output_type": "stream",
     "text": [
      "(1440, 2145)\n",
      "[[-0.9971336  -0.4177642  -0.35333753 ... -0.45470217 -0.53917575\n",
      "  -0.49893758]\n",
      " [-1.0171968  -0.47464985 -0.33580223 ... -0.48737705 -0.5975461\n",
      "  -0.5192523 ]\n",
      " [-1.0171915  -0.49410033 -0.31271464 ... -0.49532905 -0.59101653\n",
      "  -0.5018856 ]\n",
      " ...\n",
      " [ 0.02636147 -0.02636147  0.02636147 ... -0.02636147  0.02636147\n",
      "   0.02636147]\n",
      " [ 0.02636147 -0.02636147  0.02636147 ... -0.02636147  0.02636147\n",
      "   0.02636147]\n",
      " [ 0.02636147 -0.02636147  0.02636147 ... -0.02636147  0.02636147\n",
      "   0.02636147]]\n"
     ]
    }
   ],
   "execution_count": 47
  },
  {
   "metadata": {},
   "cell_type": "markdown",
   "source": "# 划分训练集、测试集",
   "id": "209e5af7698a1506"
  },
  {
   "metadata": {
    "ExecuteTime": {
     "end_time": "2024-08-06T08:36:17.573377Z",
     "start_time": "2024-08-06T08:36:17.560074Z"
    }
   },
   "cell_type": "code",
   "source": [
    "#LabelEncode\n",
    "from sklearn.model_selection import train_test_split\n",
    "mfcc_labels = [orders_dic[label] for label in mfcc_labels]\n",
    "X_train, X_test, y_train, y_test = train_test_split(new_mfcc_features, mfcc_labels, test_size=0.30, \n",
    "                                                    random_state=42, stratify = mfcc_labels, shuffle= True)\n"
   ],
   "id": "6f9e0313213018a0",
   "outputs": [],
   "execution_count": 48
  },
  {
   "metadata": {
    "ExecuteTime": {
     "end_time": "2024-08-06T08:36:17.589001Z",
     "start_time": "2024-08-06T08:36:17.575377Z"
    }
   },
   "cell_type": "code",
   "source": [
    "'''mfcc_labels = torch.from_numpy(np.array(mfcc_labels))\n",
    "mfcc_features = torch.from_numpy(np.array(mfcc_features))'''\n",
    "'''print(y_train)\n",
    "print(len(X_train))\n",
    "print(X_train)'''\n",
    "\n",
    "\n",
    "'''print(mfcc_labels)\n",
    "print(type(mfcc_labels))\n",
    "print(mfcc_features)\n",
    "print(mfcc_labels.shape)\n",
    "print(mfcc_features.shape)'''"
   ],
   "id": "56947f81c80b708e",
   "outputs": [
    {
     "data": {
      "text/plain": [
       "'print(mfcc_labels)\\nprint(type(mfcc_labels))\\nprint(mfcc_features)\\nprint(mfcc_labels.shape)\\nprint(mfcc_features.shape)'"
      ]
     },
     "execution_count": 49,
     "metadata": {},
     "output_type": "execute_result"
    }
   ],
   "execution_count": 49
  },
  {
   "metadata": {},
   "cell_type": "markdown",
   "source": "# 数据加载",
   "id": "82db40c81b5891cf"
  },
  {
   "metadata": {
    "ExecuteTime": {
     "end_time": "2024-08-06T08:36:17.618872Z",
     "start_time": "2024-08-06T08:36:17.591001Z"
    }
   },
   "cell_type": "code",
   "source": [
    "class MFCC_DataSet(Dataset):\n",
    "    def __init__(self, features, labels):\n",
    "        self.features = features\n",
    "        self.labels = labels\n",
    "        \n",
    "    def __len__(self):\n",
    "        return len(self.features)\n",
    "    \n",
    "    def __getitem__(self, idx):\n",
    "        feature = self.features[idx]\n",
    "        label = self.labels[idx]\n",
    "        return feature, label\n",
    "    \n",
    "#整合特征数据和标签\n",
    "train_dataset = MFCC_DataSet(X_train, y_train)\n",
    "test_dataset = MFCC_DataSet(X_test, y_test)\n",
    "#乱序的数据加载器\n",
    "train_dl = DataLoader(dataset=train_dataset,batch_size=batch_size,shuffle=True)\n",
    "test_dl = DataLoader(dataset=test_dataset,batch_size=batch_size,shuffle=True)\n",
    "'''print(len(train_dl))\n",
    "print(len(train_dl.dataset))\n",
    "for x_batch, y_batch in train_dl:\n",
    "    print(x_batch.shape)\n",
    "    print(y_batch.shape)\n",
    "    print(y_batch.size(0))\n",
    "    print(y_batch)\n",
    "    print(x_batch)'''\n",
    "    \n",
    "#遍历数据加载器元素\n",
    "#enumerate(data,start),start为输出的索引起始值，默认为0\n",
    "'''for i,batch in enumerate(train_dl,1):\n",
    "    print(f'batch:{i}:','x:',batch[0],\n",
    "          '\\n     y:',batch[1])\n",
    "    #输出特征数据张量大小\n",
    "    print(batch[0].shape)\n",
    "    #输出特征数据张量大小\n",
    "    print(batch[1].shape)'''"
   ],
   "id": "4aeabce73e46d7c6",
   "outputs": [
    {
     "data": {
      "text/plain": [
       "\"for i,batch in enumerate(train_dl,1):\\n    print(f'batch:{i}:','x:',batch[0],\\n          '\\n     y:',batch[1])\\n    #输出特征数据张量大小\\n    print(batch[0].shape)\\n    #输出特征数据张量大小\\n    print(batch[1].shape)\""
      ]
     },
     "execution_count": 50,
     "metadata": {},
     "output_type": "execute_result"
    }
   ],
   "execution_count": 50
  },
  {
   "metadata": {},
   "cell_type": "markdown",
   "source": "# 构建神经网络模型",
   "id": "79f2a7d2f77ab971"
  },
  {
   "metadata": {
    "ExecuteTime": {
     "end_time": "2024-08-06T08:36:17.634175Z",
     "start_time": "2024-08-06T08:36:17.620852Z"
    }
   },
   "cell_type": "code",
   "source": [
    "\n",
    "class MFCC_CNN(nn.Module):\n",
    "    def __init__(self):\n",
    "        super(MFCC_CNN, self).__init__()\n",
    "        #Conv2d采用NCHW格式，N代表批数据图像数量（batch_size），C代表通道数，H、W分别代表图像高和宽\n",
    "        #不考虑批数据维度时，第一个维度为通道数\n",
    "        self.conv1 = nn.Conv2d(in_channels=1, out_channels=32, kernel_size=3, stride=1, padding=1)\n",
    "        self.relu1 = nn.ReLU()\n",
    "        self.pool1 = nn.MaxPool2d(kernel_size=2)\n",
    "        self.conv2 = nn.Conv2d(in_channels=32, out_channels=64, kernel_size=3, stride=1, padding=1)\n",
    "        self.relu2 = nn.ReLU()\n",
    "        self.pool2 = nn.MaxPool2d(kernel_size=2)\n",
    "        self.dropout = nn.Dropout(0.4)      #添加 Dropout 层\n",
    "        \n",
    "        '''# 计算 fc1 的输入维度\n",
    "        conv_out_channels = 64\n",
    "        pool1_out_frames = (num_frames - 2) // 2 + 1        #43\n",
    "        pool1_out_num_coefficients = (num_coefficients - 2) // 2 + 1        #6\n",
    "        \n",
    "        pool2_out_frames = (pool1_out_frames - 2) // 2 + 1      #21\n",
    "        pool2_out_num_coefficients = (pool1_out_num_coefficients - 2) // 2 + 1      #3\n",
    "        \n",
    "        # 确保 conv_out_num_frames 和 conv_out_num_coefficients 不小于 0\n",
    "        conv_out_num_frames = max(0, pool2_out_frames)\n",
    "        conv_out_num_coefficients = max(0, pool2_out_num_coefficients)'''\n",
    "        \n",
    "        self.fc1 = nn.Linear(64 * 41 * 3, 1024)\n",
    "        self.fc2 = nn.Linear(1024, 8)\n",
    "        #self.softmax = nn.Softmax(dim=1)\n",
    "        \n",
    "    def forward(self, x):\n",
    "        x = x.unsqueeze(1)\n",
    "        x = self.pool1(self.relu1(self.conv1(x)))\n",
    "        x = self.pool2(self.relu2(self.conv2(x)))\n",
    "        x = x.view(x.size(0), -1)  # 展平\n",
    "        x = self.dropout(x)     #应用Dropout层\n",
    "        x = F.relu(self.fc1(x))\n",
    "        x = self.fc2(x)\n",
    "        #x = self.softmax(x)\n",
    "        return x\n",
    "\n",
    "    "
   ],
   "id": "26f830e6f5a3aaf",
   "outputs": [],
   "execution_count": 51
  },
  {
   "metadata": {},
   "cell_type": "markdown",
   "source": [
    "model = nn.Sequential()\n",
    "model.add_module('conv1', \n",
    "                 nn.Conv2d(in_channels=1, out_channels=32, kernel_size=3, stride=1, padding=1)\n",
    "                 )\n",
    "model.add_module('relu1', nn.ReLU())\n",
    "model.add_module('pool1', nn.MaxPool2d(kernel_size=2, stride=2))\n",
    "model.add_module('conv2', \n",
    "                 nn.Conv2d(in_channels=32, out_channels=64, kernel_size=3, stride=1, padding=1)\n",
    "                 )\n",
    "model.add_module('relu2', nn.ReLU())\n",
    "model.add_module('pool2', nn.MaxPool2d(kernel_size=2, stride=2))\n",
    "model.add_module('flatten', nn.Flatten())\n",
    "model.add_module('fc1', nn.Linear(64 * 21 * 3, 1024))\n",
    "model.add_module('relu3', nn.ReLU())\n",
    "model.add_module('dropout', nn.Dropout(0.5))\n",
    "model.add_module('fc2', nn.Linear(1024, 5))"
   ],
   "id": "26f58b9e5f408ef3"
  },
  {
   "metadata": {},
   "cell_type": "markdown",
   "source": "# 训练网络模型",
   "id": "c8056c927b787aae"
  },
  {
   "metadata": {
    "ExecuteTime": {
     "end_time": "2024-08-06T08:36:17.697044Z",
     "start_time": "2024-08-06T08:36:17.636682Z"
    }
   },
   "cell_type": "code",
   "source": [
    "#实例化\n",
    "model = MFCC_CNN()\n",
    "\n",
    "# 定义优化器和损失函数\n",
    "criterion = nn.CrossEntropyLoss()\n",
    "#CrossEntropyLoss损失函数已经包含了softmax激活函数\n",
    "optimizer = optim.Adam(model.parameters(), lr=0.001)        #Adam优化器\n",
    "\n",
    "#开始训练\n",
    "def train(model,num_epochs,train_dl,test_dl):\n",
    "    #存储历史数据\n",
    "    loss_hist_train = [0]*num_epochs\n",
    "    accuracy_hist_train = [0]*num_epochs\n",
    "    loss_hist_test = [0]*num_epochs\n",
    "    accuracy_hist_test = [0]*num_epochs\n",
    "    for epoch in range(num_epochs):\n",
    "        model.train()\n",
    "        running_corrects_train = 0  # 用于记录每个 epoch 的训练准确度\n",
    "        running_loss_train = 0.0    # 用于记录每个 epoch 的训练损失\n",
    "        for x_batch, y_batch in train_dl:\n",
    "            x_batch = x_batch.float()\n",
    "            #x_batch = x_batch.unsqueeze(1).float()\n",
    "            pred = model(x_batch)\n",
    "            loss = criterion(pred, y_batch)\n",
    "            optimizer.zero_grad()       #梯度归零\n",
    "            loss.backward()             #反向传输参数梯度值\n",
    "            optimizer.step()            #梯度下降执行参数更新   \n",
    "            '''\n",
    "            .item()用于张量只有一个元素时，将改张量的具体元素值转化为 int 或 float 型并返回\n",
    "            y_batch.szie(0) 等值于 batch_size，batch_size 影响加载 train_dl 时几个数据为一批 \n",
    "            相乘意为计算一个 epoch 内的损失之和\n",
    "            '''\n",
    "            '''\n",
    "            对于一个维度为(d0,d1) 的矩阵来说\n",
    "            dim=1表示求每一行中最大数的在该行中的列号，最后得到的就是一个维度为(d0,1) 的二维矩阵，最终列这一维度大小为1就要消失了，最终结果变成一维张量(d0)；\n",
    "            dim=0表示求每一列中最大数的在该列中的行号，最后得到的就是一个维度为(1,d1) 的二维矩阵，结果行这一维度大小为1就要消失了，最终结果变成一维张量(d1)。\n",
    "            '''\n",
    "            \n",
    "            running_loss_train += loss.item() \n",
    "            is_correct = (torch.argmax(pred,dim=1) == y_batch)\n",
    "            running_corrects_train += is_correct.sum().item()\n",
    "        loss_hist_train[epoch] = running_loss_train/ len(train_dl.dataset)\n",
    "        accuracy_hist_train[epoch] =running_corrects_train / len(train_dl.dataset)\n",
    "        #len(train_dl) 返回的是数据加载器（DataLoader）中批次数量（batch_size）\n",
    "        #len(train_dl.dataset) 返回的是数据集（Dataset）中的样本数量\n",
    "        \n",
    "        model.eval()\n",
    "        running_corrects_test = 0  # 用于记录每个 epoch 的训练准确度\n",
    "        running_loss_test = 0.0    # 用于记录每个 epoch 的训练损失\n",
    "        #torch.no_grad()为一个上下文管理器，在之后的进程里不会进行梯度计算，减少内存使用\n",
    "        with torch.no_grad():\n",
    "            for x_batch, y_batch in test_dl:\n",
    "                x_batch = x_batch.float()\n",
    "                #x_batch = x_batch.unsqueeze(1).float()\n",
    "                pred = model(x_batch)\n",
    "                loss = criterion(pred, y_batch)\n",
    "               \n",
    "                running_loss_test += loss.item()   \n",
    "                is_correct = (torch.argmax(pred,dim=1) == y_batch)\n",
    "                running_corrects_test += is_correct.sum().item()\n",
    "        loss_hist_test[epoch] = running_loss_test / len(test_dl.dataset)\n",
    "        accuracy_hist_test[epoch] =running_corrects_test / len(test_dl.dataset)\n",
    "        \n",
    "        print(f'Epoch{epoch+1} accuracy:'\n",
    "              f'{accuracy_hist_train[epoch]:.4f} test_accuracy:'\n",
    "              f'{accuracy_hist_test[epoch]:.4f}')\n",
    "    return loss_hist_train, loss_hist_test, accuracy_hist_train, accuracy_hist_test\n",
    "    \n",
    "    "
   ],
   "id": "26b5b5fd8dde21f7",
   "outputs": [],
   "execution_count": 52
  },
  {
   "metadata": {
    "ExecuteTime": {
     "end_time": "2024-08-06T08:36:48.690412Z",
     "start_time": "2024-08-06T08:36:17.698961Z"
    }
   },
   "cell_type": "code",
   "source": [
    "torch.manual_seed(1)\n",
    "num_epochs = 20\n",
    "hist = train(model, num_epochs, train_dl, test_dl)\n"
   ],
   "id": "72ee067c4a82a5fa",
   "outputs": [
    {
     "name": "stdout",
     "output_type": "stream",
     "text": [
      "Epoch1 accuracy:0.2411 test_accuracy:0.2593\n",
      "Epoch2 accuracy:0.3284 test_accuracy:0.3495\n",
      "Epoch3 accuracy:0.4911 test_accuracy:0.4537\n",
      "Epoch4 accuracy:0.5585 test_accuracy:0.5046\n",
      "Epoch5 accuracy:0.6607 test_accuracy:0.5278\n",
      "Epoch6 accuracy:0.7550 test_accuracy:0.5926\n",
      "Epoch7 accuracy:0.8175 test_accuracy:0.5833\n",
      "Epoch8 accuracy:0.8651 test_accuracy:0.5741\n",
      "Epoch9 accuracy:0.9048 test_accuracy:0.5972\n",
      "Epoch10 accuracy:0.9147 test_accuracy:0.5903\n",
      "Epoch11 accuracy:0.9345 test_accuracy:0.6204\n",
      "Epoch12 accuracy:0.9524 test_accuracy:0.6019\n",
      "Epoch13 accuracy:0.9623 test_accuracy:0.5926\n",
      "Epoch14 accuracy:0.9683 test_accuracy:0.6273\n",
      "Epoch15 accuracy:0.9722 test_accuracy:0.6366\n",
      "Epoch16 accuracy:0.9802 test_accuracy:0.6134\n",
      "Epoch17 accuracy:0.9861 test_accuracy:0.6389\n",
      "Epoch18 accuracy:0.9812 test_accuracy:0.6481\n",
      "Epoch19 accuracy:0.9772 test_accuracy:0.6296\n",
      "Epoch20 accuracy:0.9851 test_accuracy:0.6551\n"
     ]
    }
   ],
   "execution_count": 53
  },
  {
   "metadata": {
    "ExecuteTime": {
     "end_time": "2024-08-06T08:36:48.941423Z",
     "start_time": "2024-08-06T08:36:48.691397Z"
    }
   },
   "cell_type": "code",
   "source": [
    "\n",
    "x_arr = np.arange(len(hist[0])) + 1\n",
    "fig = plt.figure(figsize = (12,4))\n",
    "ax = fig.add_subplot(121)\n",
    "ax.plot(x_arr, hist[0], '-o', label='train loss')\n",
    "ax.plot(x_arr, hist[1], '--o', label='test loss')\n",
    "ax.legend(fontsize = 'small')\n",
    "ax = fig.add_subplot(122)\n",
    "ax.plot(x_arr, hist[2], '-o', label='train accuracy')\n",
    "ax.plot(x_arr, hist[3], '--o', label='test accuracy')\n",
    "ax.legend(fontsize = 'small')\n",
    "ax.set_xlabel('Epoch', fontsize = 'small')\n",
    "ax.set_ylabel('Accuracy', fontsize = 'small')\n",
    "plt.show()\n"
   ],
   "id": "8c61852ab7af3845",
   "outputs": [
    {
     "data": {
      "text/plain": [
       "<Figure size 1200x400 with 2 Axes>"
      ],
      "image/png": "[encoded data removed]"
     },
     "metadata": {},
     "output_type": "display_data"
    }
   ],
   "execution_count": 54
  },
  {
   "metadata": {
    "ExecuteTime": {
     "end_time": "2024-08-06T08:36:48.956946Z",
     "start_time": "2024-08-06T08:36:48.943422Z"
    }
   },
   "cell_type": "code",
   "source": [
    "'''epochs = 100\n",
    "for epoch in range(epochs):\n",
    "    for (labels, features) in enumerate(dataloader):\n",
    "        optimizer.zero_grad()\n",
    "        print(features[0].shape)\n",
    "        # 前向传播\n",
    "        features = features[0].unsqueeze(1)\n",
    "        outputs = model(features)\n",
    "        print(features[0])\n",
    "        # 计算损失\n",
    "        #labels = labels.squeeze()  # 去除不必要的维度\n",
    "        loss = criterion(outputs, labels)\n",
    "        \n",
    "        # 反向传播和优化\n",
    "        loss.backward()\n",
    "        optimizer.step()\n",
    "        \n",
    "        print('Epoch: {} \\tLoss: {:.6f}'.format(epoch, loss.item()))\n",
    "        print(outputs)'''"
   ],
   "id": "be02998bf23a098b",
   "outputs": [
    {
     "data": {
      "text/plain": [
       "\"epochs = 100\\nfor epoch in range(epochs):\\n    for (labels, features) in enumerate(dataloader):\\n        optimizer.zero_grad()\\n        print(features[0].shape)\\n        # 前向传播\\n        features = features[0].unsqueeze(1)\\n        outputs = model(features)\\n        print(features[0])\\n        # 计算损失\\n        #labels = labels.squeeze()  # 去除不必要的维度\\n        loss = criterion(outputs, labels)\\n        \\n        # 反向传播和优化\\n        loss.backward()\\n        optimizer.step()\\n        \\n        print('Epoch: {} \\tLoss: {:.6f}'.format(epoch, loss.item()))\\n        print(outputs)\""
      ]
     },
     "execution_count": 55,
     "metadata": {},
     "output_type": "execute_result"
    }
   ],
   "execution_count": 55
  },
  {
   "metadata": {},
   "cell_type": "markdown",
   "source": "",
   "id": "4738a9867ef41667"
  }
 ],
 "metadata": {
  "kernelspec": {
   "display_name": "Python 3",
   "language": "python",
   "name": "python3"
  },
  "language_info": {
   "codemirror_mode": {
    "name": "ipython",
    "version": 2
   },
   "file_extension": ".py",
   "mimetype": "text/x-python",
   "name": "python",
   "nbconvert_exporter": "python",
   "pygments_lexer": "ipython2",
   "version": "2.7.6"
  }
 },
 "nbformat": 4,
 "nbformat_minor": 5
}
