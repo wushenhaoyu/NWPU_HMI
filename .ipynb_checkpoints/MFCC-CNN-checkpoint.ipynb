{
 "cells": [
  {
   "cell_type": "code",
   "id": "initial_id",
   "metadata": {
    "collapsed": true,
    "jupyter": {
     "is_executing": true
    },
    "ExecuteTime": {
     "start_time": "2024-08-05T03:06:26.741406Z"
    }
   },
   "source": [
    "import torch.nn as nn\n",
    "import torch.nn.functional as F\n",
    "import torch.optim as optim\n",
    "from torch.utils.data import DataLoader,Dataset\n",
    "import os\n",
    "import sys\n",
    "import numpy\n",
    "import librosa\n",
    "import pandas as pd\n",
    "import numpy as np\n",
    "import librosa.display\n",
    "import matplotlib.pyplot as plt\n",
    "import torch"
   ],
   "outputs": [],
   "execution_count": null
  },
  {
   "metadata": {
    "ExecuteTime": {
     "end_time": "2024-08-04T09:49:36.080387Z",
     "start_time": "2024-08-04T09:49:36.067767Z"
    }
   },
   "cell_type": "code",
   "source": [
    "audio_path = 'train/'\n",
    "students_num = [\"029\", \"033\", \"039\", \"045\", \"049\", \"068\", \"914\", \"918\", \"919\", \"934\", \"970\"]\n",
    "orders_num = [\"Takeoff\", \"Landing\", \"Advance\", \"Retreat\", \"Rise\"]\n",
    "repeat_num = ['1', '2', '3', '4']\n",
    "number_of_mfcc_features = 13\n",
    "orders_dic = {\n",
    "    'Takeoff': 0,\n",
    "    'Landing': 1,\n",
    "    'Advance': 2,\n",
    "    'Retreat': 3,\n",
    "    'Rise': 4\n",
    "}"
   ],
   "id": "8ffd114fbb13ad29",
   "outputs": [],
   "execution_count": 14
  },
  {
   "metadata": {
    "ExecuteTime": {
     "end_time": "2024-08-04T09:49:36.111843Z",
     "start_time": "2024-08-04T09:49:36.100412Z"
    }
   },
   "cell_type": "code",
   "source": [
    "def mfcc_extraction(path, students_num, orders_num, repeat_num):\n",
    "    labels = []\n",
    "    mfcc_features = []\n",
    "\n",
    "    for stu_num in students_num:\n",
    "        for index, order in enumerate(orders_num):\n",
    "            for repeat in repeat_num:\n",
    "                file_path = path + stu_num + '_' + str(index+1) + '_' + repeat + \".wav\"\n",
    "                if os.path.exists(file_path):\n",
    "                    x, sr = librosa.load(file_path)\n",
    "                    x = librosa.effects.preemphasis(x)  # 预加重处理\n",
    "                    mfccs = librosa.feature.mfcc(y=x, sr=sr, n_mfcc=number_of_mfcc_features).T\n",
    "\n",
    "\n",
    "                    mfcc_features.append(mfccs)\n",
    "                    labels.append(order)\n",
    "                else:\n",
    "                    pass\n",
    "    return mfcc_features, labels"
   ],
   "id": "2e518186cfbba7e4",
   "outputs": [],
   "execution_count": 15
  },
  {
   "metadata": {
    "ExecuteTime": {
     "end_time": "2024-08-04T09:49:36.844358Z",
     "start_time": "2024-08-04T09:49:36.113849Z"
    }
   },
   "cell_type": "code",
   "source": [
    "mfcc_features_and_labels = mfcc_extraction(audio_path, students_num, orders_num, repeat_num)\n",
    "mfcc_features, mfcc_labels = mfcc_features_and_labels"
   ],
   "id": "df945ae2049e29fa",
   "outputs": [],
   "execution_count": 16
  },
  {
   "metadata": {
    "ExecuteTime": {
     "end_time": "2024-08-04T09:49:36.860517Z",
     "start_time": "2024-08-04T09:49:36.845368Z"
    }
   },
   "cell_type": "code",
   "source": "mfcc_labels = [orders_dic[label] for label in mfcc_labels]",
   "id": "6f9e0313213018a0",
   "outputs": [],
   "execution_count": 17
  },
  {
   "metadata": {
    "ExecuteTime": {
     "end_time": "2024-08-04T09:49:36.876456Z",
     "start_time": "2024-08-04T09:49:36.862373Z"
    }
   },
   "cell_type": "code",
   "source": [
    "class MFCC_DataSet(Dataset):\n",
    "    def __init__(self, features, labels):\n",
    "        self.features = features\n",
    "        self.labels = labels\n",
    "        \n",
    "    def __len__(self):\n",
    "        return len(self.features)\n",
    "    \n",
    "    def __getitem__(self, idx):\n",
    "        feature = self.features[idx]\n",
    "        label = self.labels[idx]\n",
    "        return feature, label"
   ],
   "id": "6ea3fb0aa8e49da",
   "outputs": [],
   "execution_count": 18
  },
  {
   "metadata": {
    "ExecuteTime": {
     "end_time": "2024-08-04T09:49:36.891981Z",
     "start_time": "2024-08-04T09:49:36.878440Z"
    }
   },
   "cell_type": "code",
   "source": [
    "dataset = MFCC_DataSet(mfcc_features, mfcc_labels)\n",
    "dataloader = DataLoader(dataset=dataset,shuffle=False)"
   ],
   "id": "4aeabce73e46d7c6",
   "outputs": [],
   "execution_count": 19
  },
  {
   "metadata": {
    "ExecuteTime": {
     "end_time": "2024-08-04T09:49:36.907385Z",
     "start_time": "2024-08-04T09:49:36.892980Z"
    }
   },
   "cell_type": "code",
   "source": [
    "for f , l in dataloader:\n",
    "    print(f.shape)\n",
    "    print(l.shape)"
   ],
   "id": "cb500b00b4d52bdf",
   "outputs": [
    {
     "name": "stdout",
     "output_type": "stream",
     "text": [
      "torch.Size([1, 87, 13])\n",
      "torch.Size([1])\n",
      "torch.Size([1, 87, 13])\n",
      "torch.Size([1])\n",
      "torch.Size([1, 87, 13])\n",
      "torch.Size([1])\n",
      "torch.Size([1, 87, 13])\n",
      "torch.Size([1])\n",
      "torch.Size([1, 87, 13])\n",
      "torch.Size([1])\n",
      "torch.Size([1, 87, 13])\n",
      "torch.Size([1])\n",
      "torch.Size([1, 87, 13])\n",
      "torch.Size([1])\n",
      "torch.Size([1, 87, 13])\n",
      "torch.Size([1])\n",
      "torch.Size([1, 87, 13])\n",
      "torch.Size([1])\n",
      "torch.Size([1, 87, 13])\n",
      "torch.Size([1])\n",
      "torch.Size([1, 87, 13])\n",
      "torch.Size([1])\n",
      "torch.Size([1, 87, 13])\n",
      "torch.Size([1])\n",
      "torch.Size([1, 87, 13])\n",
      "torch.Size([1])\n",
      "torch.Size([1, 87, 13])\n",
      "torch.Size([1])\n",
      "torch.Size([1, 87, 13])\n",
      "torch.Size([1])\n",
      "torch.Size([1, 87, 13])\n",
      "torch.Size([1])\n",
      "torch.Size([1, 87, 13])\n",
      "torch.Size([1])\n",
      "torch.Size([1, 87, 13])\n",
      "torch.Size([1])\n",
      "torch.Size([1, 87, 13])\n",
      "torch.Size([1])\n",
      "torch.Size([1, 87, 13])\n",
      "torch.Size([1])\n",
      "torch.Size([1, 87, 13])\n",
      "torch.Size([1])\n",
      "torch.Size([1, 87, 13])\n",
      "torch.Size([1])\n",
      "torch.Size([1, 87, 13])\n",
      "torch.Size([1])\n",
      "torch.Size([1, 87, 13])\n",
      "torch.Size([1])\n",
      "torch.Size([1, 87, 13])\n",
      "torch.Size([1])\n",
      "torch.Size([1, 87, 13])\n",
      "torch.Size([1])\n",
      "torch.Size([1, 87, 13])\n",
      "torch.Size([1])\n",
      "torch.Size([1, 87, 13])\n",
      "torch.Size([1])\n",
      "torch.Size([1, 87, 13])\n",
      "torch.Size([1])\n",
      "torch.Size([1, 87, 13])\n",
      "torch.Size([1])\n",
      "torch.Size([1, 87, 13])\n",
      "torch.Size([1])\n",
      "torch.Size([1, 87, 13])\n",
      "torch.Size([1])\n",
      "torch.Size([1, 87, 13])\n",
      "torch.Size([1])\n",
      "torch.Size([1, 87, 13])\n",
      "torch.Size([1])\n",
      "torch.Size([1, 87, 13])\n",
      "torch.Size([1])\n",
      "torch.Size([1, 87, 13])\n",
      "torch.Size([1])\n",
      "torch.Size([1, 87, 13])\n",
      "torch.Size([1])\n",
      "torch.Size([1, 87, 13])\n",
      "torch.Size([1])\n",
      "torch.Size([1, 87, 13])\n",
      "torch.Size([1])\n",
      "torch.Size([1, 87, 13])\n",
      "torch.Size([1])\n",
      "torch.Size([1, 87, 13])\n",
      "torch.Size([1])\n",
      "torch.Size([1, 87, 13])\n",
      "torch.Size([1])\n",
      "torch.Size([1, 87, 13])\n",
      "torch.Size([1])\n",
      "torch.Size([1, 87, 13])\n",
      "torch.Size([1])\n",
      "torch.Size([1, 87, 13])\n",
      "torch.Size([1])\n",
      "torch.Size([1, 87, 13])\n",
      "torch.Size([1])\n",
      "torch.Size([1, 87, 13])\n",
      "torch.Size([1])\n",
      "torch.Size([1, 87, 13])\n",
      "torch.Size([1])\n",
      "torch.Size([1, 87, 13])\n",
      "torch.Size([1])\n",
      "torch.Size([1, 87, 13])\n",
      "torch.Size([1])\n",
      "torch.Size([1, 87, 13])\n",
      "torch.Size([1])\n",
      "torch.Size([1, 87, 13])\n",
      "torch.Size([1])\n",
      "torch.Size([1, 87, 13])\n",
      "torch.Size([1])\n",
      "torch.Size([1, 87, 13])\n",
      "torch.Size([1])\n",
      "torch.Size([1, 87, 13])\n",
      "torch.Size([1])\n",
      "torch.Size([1, 87, 13])\n",
      "torch.Size([1])\n",
      "torch.Size([1, 87, 13])\n",
      "torch.Size([1])\n",
      "torch.Size([1, 87, 13])\n",
      "torch.Size([1])\n",
      "torch.Size([1, 87, 13])\n",
      "torch.Size([1])\n",
      "torch.Size([1, 87, 13])\n",
      "torch.Size([1])\n",
      "torch.Size([1, 87, 13])\n",
      "torch.Size([1])\n",
      "torch.Size([1, 87, 13])\n",
      "torch.Size([1])\n",
      "torch.Size([1, 87, 13])\n",
      "torch.Size([1])\n",
      "torch.Size([1, 87, 13])\n",
      "torch.Size([1])\n",
      "torch.Size([1, 87, 13])\n",
      "torch.Size([1])\n",
      "torch.Size([1, 87, 13])\n",
      "torch.Size([1])\n",
      "torch.Size([1, 87, 13])\n",
      "torch.Size([1])\n",
      "torch.Size([1, 87, 13])\n",
      "torch.Size([1])\n",
      "torch.Size([1, 87, 13])\n",
      "torch.Size([1])\n",
      "torch.Size([1, 87, 13])\n",
      "torch.Size([1])\n",
      "torch.Size([1, 87, 13])\n",
      "torch.Size([1])\n",
      "torch.Size([1, 87, 13])\n",
      "torch.Size([1])\n",
      "torch.Size([1, 87, 13])\n",
      "torch.Size([1])\n",
      "torch.Size([1, 87, 13])\n",
      "torch.Size([1])\n",
      "torch.Size([1, 87, 13])\n",
      "torch.Size([1])\n",
      "torch.Size([1, 87, 13])\n",
      "torch.Size([1])\n",
      "torch.Size([1, 87, 13])\n",
      "torch.Size([1])\n",
      "torch.Size([1, 87, 13])\n",
      "torch.Size([1])\n",
      "torch.Size([1, 87, 13])\n",
      "torch.Size([1])\n",
      "torch.Size([1, 87, 13])\n",
      "torch.Size([1])\n",
      "torch.Size([1, 87, 13])\n",
      "torch.Size([1])\n",
      "torch.Size([1, 87, 13])\n",
      "torch.Size([1])\n",
      "torch.Size([1, 87, 13])\n",
      "torch.Size([1])\n",
      "torch.Size([1, 87, 13])\n",
      "torch.Size([1])\n",
      "torch.Size([1, 87, 13])\n",
      "torch.Size([1])\n",
      "torch.Size([1, 87, 13])\n",
      "torch.Size([1])\n",
      "torch.Size([1, 87, 13])\n",
      "torch.Size([1])\n",
      "torch.Size([1, 87, 13])\n",
      "torch.Size([1])\n",
      "torch.Size([1, 87, 13])\n",
      "torch.Size([1])\n",
      "torch.Size([1, 87, 13])\n",
      "torch.Size([1])\n",
      "torch.Size([1, 87, 13])\n",
      "torch.Size([1])\n",
      "torch.Size([1, 87, 13])\n",
      "torch.Size([1])\n",
      "torch.Size([1, 87, 13])\n",
      "torch.Size([1])\n",
      "torch.Size([1, 87, 13])\n",
      "torch.Size([1])\n",
      "torch.Size([1, 87, 13])\n",
      "torch.Size([1])\n",
      "torch.Size([1, 87, 13])\n",
      "torch.Size([1])\n",
      "torch.Size([1, 87, 13])\n",
      "torch.Size([1])\n",
      "torch.Size([1, 87, 13])\n",
      "torch.Size([1])\n",
      "torch.Size([1, 87, 13])\n",
      "torch.Size([1])\n",
      "torch.Size([1, 87, 13])\n",
      "torch.Size([1])\n",
      "torch.Size([1, 87, 13])\n",
      "torch.Size([1])\n",
      "torch.Size([1, 87, 13])\n",
      "torch.Size([1])\n",
      "torch.Size([1, 87, 13])\n",
      "torch.Size([1])\n",
      "torch.Size([1, 87, 13])\n",
      "torch.Size([1])\n",
      "torch.Size([1, 87, 13])\n",
      "torch.Size([1])\n",
      "torch.Size([1, 87, 13])\n",
      "torch.Size([1])\n",
      "torch.Size([1, 87, 13])\n",
      "torch.Size([1])\n",
      "torch.Size([1, 87, 13])\n",
      "torch.Size([1])\n",
      "torch.Size([1, 87, 13])\n",
      "torch.Size([1])\n",
      "torch.Size([1, 87, 13])\n",
      "torch.Size([1])\n",
      "torch.Size([1, 87, 13])\n",
      "torch.Size([1])\n",
      "torch.Size([1, 87, 13])\n",
      "torch.Size([1])\n"
     ]
    }
   ],
   "execution_count": 20
  },
  {
   "metadata": {
    "ExecuteTime": {
     "end_time": "2024-08-04T09:49:36.923057Z",
     "start_time": "2024-08-04T09:49:36.908382Z"
    }
   },
   "cell_type": "code",
   "source": [
    "\n",
    "\n",
    "class MFCC_CNN(nn.Module):\n",
    "    def __init__(self, num_classes, num_coefficients, num_frames):\n",
    "        super(MFCC_CNN, self).__init__()\n",
    "        \n",
    "        self.conv1 = nn.Conv2d(1, 32, kernel_size=(3, 3))\n",
    "        self.relu1 = nn.ReLU()\n",
    "        self.pool1 = nn.MaxPool2d(kernel_size=(2, 2))\n",
    "        \n",
    "        self.conv2 = nn.Conv2d(32, 64, kernel_size=(3, 3))\n",
    "        self.relu2 = nn.ReLU()\n",
    "        self.pool2 = nn.MaxPool2d(kernel_size=(2, 2))\n",
    "        \n",
    "        # 计算 fc1 的输入维度\n",
    "        conv_out_channels = 64\n",
    "        conv_out_num_frames = (num_frames - 4) // 4 - 2\n",
    "        conv_out_num_coefficients = (num_coefficients - 4) // 4 - 2\n",
    "        \n",
    "        # 确保 conv_out_num_frames 和 conv_out_num_coefficients 不小于 0\n",
    "        conv_out_num_frames = max(0, conv_out_num_frames)\n",
    "        conv_out_num_coefficients = max(0, conv_out_num_coefficients)\n",
    "        \n",
    "        self.fc1 = nn.Linear(conv_out_channels * conv_out_num_frames * conv_out_num_coefficients, 128)\n",
    "        self.relu3 = nn.ReLU()\n",
    "        self.fc2 = nn.Linear(128, num_classes)\n",
    "        self.softmax = nn.Softmax(dim=1)\n",
    "        \n",
    "    def forward(self, x):\n",
    "        x = self.pool1(self.relu1(self.conv1(x)))\n",
    "        x = self.pool2(self.relu2(self.conv2(x)))\n",
    "        x = x.view(x.size(0), -1)  # 展平\n",
    "        x = self.relu3(self.fc1(x))\n",
    "        x = self.fc2(x)\n",
    "        x = self.softmax(x)\n",
    "        return x\n",
    "\n",
    "    "
   ],
   "id": "d5c2387fe65f5a74",
   "outputs": [],
   "execution_count": 21
  },
  {
   "metadata": {
    "ExecuteTime": {
     "end_time": "2024-08-04T09:49:36.939124Z",
     "start_time": "2024-08-04T09:49:36.925032Z"
    }
   },
   "cell_type": "code",
   "source": [
    "model = MFCC_CNN(num_classes=5, num_coefficients=13, num_frames=87)\n",
    "\n",
    "# 定义优化器和损失函数\n",
    "optimizer = optim.Adam(model.parameters(), lr=0.003)\n",
    "criterion = nn.CrossEntropyLoss()\n",
    "\n"
   ],
   "id": "cac15422e31c3d99",
   "outputs": [],
   "execution_count": 22
  },
  {
   "metadata": {
    "ExecuteTime": {
     "end_time": "2024-08-04T09:49:37.017419Z",
     "start_time": "2024-08-04T09:49:36.940609Z"
    }
   },
   "cell_type": "code",
   "source": [
    "epochs = 100\n",
    "for epoch in range(epochs):\n",
    "    for (labels, features) in enumerate(dataloader):\n",
    "        optimizer.zero_grad()\n",
    "        #print(features[0].shape)\n",
    "        # 前向传播\n",
    "        features = features[0].unsqueeze(1)\n",
    "        outputs = model(features)\n",
    "        \n",
    "        # 计算损失\n",
    "        labels = labels.squeeze()  # 去除不必要的维度\n",
    "        loss = criterion(outputs, labels)\n",
    "        \n",
    "        # 反向传播和优化\n",
    "        loss.backward()\n",
    "        optimizer.step()\n",
    "        \n",
    "        print('Epoch: {} \\tLoss: {:.6f}'.format(epoch, loss.item()))\n",
    "        print(outputs)"
   ],
   "id": "be02998bf23a098b",
   "outputs": [
    {
     "ename": "RuntimeError",
     "evalue": "mat1 and mat2 shapes cannot be multiplied (1x1280 and 0x128)",
     "output_type": "error",
     "traceback": [
      "\u001B[1;31m---------------------------------------------------------------------------\u001B[0m",
      "\u001B[1;31mRuntimeError\u001B[0m                              Traceback (most recent call last)",
      "Cell \u001B[1;32mIn[23], line 8\u001B[0m\n\u001B[0;32m      5\u001B[0m \u001B[38;5;66;03m#print(features[0].shape)\u001B[39;00m\n\u001B[0;32m      6\u001B[0m \u001B[38;5;66;03m# 前向传播\u001B[39;00m\n\u001B[0;32m      7\u001B[0m features \u001B[38;5;241m=\u001B[39m features[\u001B[38;5;241m0\u001B[39m]\u001B[38;5;241m.\u001B[39munsqueeze(\u001B[38;5;241m1\u001B[39m)\n\u001B[1;32m----> 8\u001B[0m outputs \u001B[38;5;241m=\u001B[39m \u001B[43mmodel\u001B[49m\u001B[43m(\u001B[49m\u001B[43mfeatures\u001B[49m\u001B[43m)\u001B[49m\n\u001B[0;32m     10\u001B[0m \u001B[38;5;66;03m# 计算损失\u001B[39;00m\n\u001B[0;32m     11\u001B[0m labels \u001B[38;5;241m=\u001B[39m labels\u001B[38;5;241m.\u001B[39msqueeze()  \u001B[38;5;66;03m# 去除不必要的维度\u001B[39;00m\n",
      "File \u001B[1;32mE:\\Anaconda\\envs\\pysp\\lib\\site-packages\\torch\\nn\\modules\\module.py:1102\u001B[0m, in \u001B[0;36mModule._call_impl\u001B[1;34m(self, *input, **kwargs)\u001B[0m\n\u001B[0;32m   1098\u001B[0m \u001B[38;5;66;03m# If we don't have any hooks, we want to skip the rest of the logic in\u001B[39;00m\n\u001B[0;32m   1099\u001B[0m \u001B[38;5;66;03m# this function, and just call forward.\u001B[39;00m\n\u001B[0;32m   1100\u001B[0m \u001B[38;5;28;01mif\u001B[39;00m \u001B[38;5;129;01mnot\u001B[39;00m (\u001B[38;5;28mself\u001B[39m\u001B[38;5;241m.\u001B[39m_backward_hooks \u001B[38;5;129;01mor\u001B[39;00m \u001B[38;5;28mself\u001B[39m\u001B[38;5;241m.\u001B[39m_forward_hooks \u001B[38;5;129;01mor\u001B[39;00m \u001B[38;5;28mself\u001B[39m\u001B[38;5;241m.\u001B[39m_forward_pre_hooks \u001B[38;5;129;01mor\u001B[39;00m _global_backward_hooks\n\u001B[0;32m   1101\u001B[0m         \u001B[38;5;129;01mor\u001B[39;00m _global_forward_hooks \u001B[38;5;129;01mor\u001B[39;00m _global_forward_pre_hooks):\n\u001B[1;32m-> 1102\u001B[0m     \u001B[38;5;28;01mreturn\u001B[39;00m \u001B[43mforward_call\u001B[49m\u001B[43m(\u001B[49m\u001B[38;5;241;43m*\u001B[39;49m\u001B[38;5;28;43minput\u001B[39;49m\u001B[43m,\u001B[49m\u001B[43m \u001B[49m\u001B[38;5;241;43m*\u001B[39;49m\u001B[38;5;241;43m*\u001B[39;49m\u001B[43mkwargs\u001B[49m\u001B[43m)\u001B[49m\n\u001B[0;32m   1103\u001B[0m \u001B[38;5;66;03m# Do not call functions when jit is used\u001B[39;00m\n\u001B[0;32m   1104\u001B[0m full_backward_hooks, non_full_backward_hooks \u001B[38;5;241m=\u001B[39m [], []\n",
      "Cell \u001B[1;32mIn[21], line 31\u001B[0m, in \u001B[0;36mMFCC_CNN.forward\u001B[1;34m(self, x)\u001B[0m\n\u001B[0;32m     29\u001B[0m x \u001B[38;5;241m=\u001B[39m \u001B[38;5;28mself\u001B[39m\u001B[38;5;241m.\u001B[39mpool2(\u001B[38;5;28mself\u001B[39m\u001B[38;5;241m.\u001B[39mrelu2(\u001B[38;5;28mself\u001B[39m\u001B[38;5;241m.\u001B[39mconv2(x)))\n\u001B[0;32m     30\u001B[0m x \u001B[38;5;241m=\u001B[39m x\u001B[38;5;241m.\u001B[39mview(x\u001B[38;5;241m.\u001B[39msize(\u001B[38;5;241m0\u001B[39m), \u001B[38;5;241m-\u001B[39m\u001B[38;5;241m1\u001B[39m)  \u001B[38;5;66;03m# 展平\u001B[39;00m\n\u001B[1;32m---> 31\u001B[0m x \u001B[38;5;241m=\u001B[39m \u001B[38;5;28mself\u001B[39m\u001B[38;5;241m.\u001B[39mrelu3(\u001B[38;5;28;43mself\u001B[39;49m\u001B[38;5;241;43m.\u001B[39;49m\u001B[43mfc1\u001B[49m\u001B[43m(\u001B[49m\u001B[43mx\u001B[49m\u001B[43m)\u001B[49m)\n\u001B[0;32m     32\u001B[0m x \u001B[38;5;241m=\u001B[39m \u001B[38;5;28mself\u001B[39m\u001B[38;5;241m.\u001B[39mfc2(x)\n\u001B[0;32m     33\u001B[0m x \u001B[38;5;241m=\u001B[39m \u001B[38;5;28mself\u001B[39m\u001B[38;5;241m.\u001B[39msoftmax(x)\n",
      "File \u001B[1;32mE:\\Anaconda\\envs\\pysp\\lib\\site-packages\\torch\\nn\\modules\\module.py:1102\u001B[0m, in \u001B[0;36mModule._call_impl\u001B[1;34m(self, *input, **kwargs)\u001B[0m\n\u001B[0;32m   1098\u001B[0m \u001B[38;5;66;03m# If we don't have any hooks, we want to skip the rest of the logic in\u001B[39;00m\n\u001B[0;32m   1099\u001B[0m \u001B[38;5;66;03m# this function, and just call forward.\u001B[39;00m\n\u001B[0;32m   1100\u001B[0m \u001B[38;5;28;01mif\u001B[39;00m \u001B[38;5;129;01mnot\u001B[39;00m (\u001B[38;5;28mself\u001B[39m\u001B[38;5;241m.\u001B[39m_backward_hooks \u001B[38;5;129;01mor\u001B[39;00m \u001B[38;5;28mself\u001B[39m\u001B[38;5;241m.\u001B[39m_forward_hooks \u001B[38;5;129;01mor\u001B[39;00m \u001B[38;5;28mself\u001B[39m\u001B[38;5;241m.\u001B[39m_forward_pre_hooks \u001B[38;5;129;01mor\u001B[39;00m _global_backward_hooks\n\u001B[0;32m   1101\u001B[0m         \u001B[38;5;129;01mor\u001B[39;00m _global_forward_hooks \u001B[38;5;129;01mor\u001B[39;00m _global_forward_pre_hooks):\n\u001B[1;32m-> 1102\u001B[0m     \u001B[38;5;28;01mreturn\u001B[39;00m \u001B[43mforward_call\u001B[49m\u001B[43m(\u001B[49m\u001B[38;5;241;43m*\u001B[39;49m\u001B[38;5;28;43minput\u001B[39;49m\u001B[43m,\u001B[49m\u001B[43m \u001B[49m\u001B[38;5;241;43m*\u001B[39;49m\u001B[38;5;241;43m*\u001B[39;49m\u001B[43mkwargs\u001B[49m\u001B[43m)\u001B[49m\n\u001B[0;32m   1103\u001B[0m \u001B[38;5;66;03m# Do not call functions when jit is used\u001B[39;00m\n\u001B[0;32m   1104\u001B[0m full_backward_hooks, non_full_backward_hooks \u001B[38;5;241m=\u001B[39m [], []\n",
      "File \u001B[1;32mE:\\Anaconda\\envs\\pysp\\lib\\site-packages\\torch\\nn\\modules\\linear.py:103\u001B[0m, in \u001B[0;36mLinear.forward\u001B[1;34m(self, input)\u001B[0m\n\u001B[0;32m    102\u001B[0m \u001B[38;5;28;01mdef\u001B[39;00m \u001B[38;5;21mforward\u001B[39m(\u001B[38;5;28mself\u001B[39m, \u001B[38;5;28minput\u001B[39m: Tensor) \u001B[38;5;241m-\u001B[39m\u001B[38;5;241m>\u001B[39m Tensor:\n\u001B[1;32m--> 103\u001B[0m     \u001B[38;5;28;01mreturn\u001B[39;00m \u001B[43mF\u001B[49m\u001B[38;5;241;43m.\u001B[39;49m\u001B[43mlinear\u001B[49m\u001B[43m(\u001B[49m\u001B[38;5;28;43minput\u001B[39;49m\u001B[43m,\u001B[49m\u001B[43m \u001B[49m\u001B[38;5;28;43mself\u001B[39;49m\u001B[38;5;241;43m.\u001B[39;49m\u001B[43mweight\u001B[49m\u001B[43m,\u001B[49m\u001B[43m \u001B[49m\u001B[38;5;28;43mself\u001B[39;49m\u001B[38;5;241;43m.\u001B[39;49m\u001B[43mbias\u001B[49m\u001B[43m)\u001B[49m\n",
      "File \u001B[1;32mE:\\Anaconda\\envs\\pysp\\lib\\site-packages\\torch\\nn\\functional.py:1848\u001B[0m, in \u001B[0;36mlinear\u001B[1;34m(input, weight, bias)\u001B[0m\n\u001B[0;32m   1846\u001B[0m \u001B[38;5;28;01mif\u001B[39;00m has_torch_function_variadic(\u001B[38;5;28minput\u001B[39m, weight, bias):\n\u001B[0;32m   1847\u001B[0m     \u001B[38;5;28;01mreturn\u001B[39;00m handle_torch_function(linear, (\u001B[38;5;28minput\u001B[39m, weight, bias), \u001B[38;5;28minput\u001B[39m, weight, bias\u001B[38;5;241m=\u001B[39mbias)\n\u001B[1;32m-> 1848\u001B[0m \u001B[38;5;28;01mreturn\u001B[39;00m \u001B[43mtorch\u001B[49m\u001B[38;5;241;43m.\u001B[39;49m\u001B[43m_C\u001B[49m\u001B[38;5;241;43m.\u001B[39;49m\u001B[43m_nn\u001B[49m\u001B[38;5;241;43m.\u001B[39;49m\u001B[43mlinear\u001B[49m\u001B[43m(\u001B[49m\u001B[38;5;28;43minput\u001B[39;49m\u001B[43m,\u001B[49m\u001B[43m \u001B[49m\u001B[43mweight\u001B[49m\u001B[43m,\u001B[49m\u001B[43m \u001B[49m\u001B[43mbias\u001B[49m\u001B[43m)\u001B[49m\n",
      "\u001B[1;31mRuntimeError\u001B[0m: mat1 and mat2 shapes cannot be multiplied (1x1280 and 0x128)"
     ]
    }
   ],
   "execution_count": 23
  },
  {
   "metadata": {},
   "cell_type": "code",
   "source": "",
   "id": "559c8fd7402cd7ea",
   "outputs": [],
   "execution_count": null
  },
  {
   "metadata": {},
   "cell_type": "code",
   "source": "",
   "id": "56f3f55578cbf27e",
   "outputs": [],
   "execution_count": null
  },
  {
   "metadata": {},
   "cell_type": "markdown",
   "source": "",
   "id": "4738a9867ef41667"
  },
  {
   "metadata": {},
   "cell_type": "code",
   "source": "",
   "id": "74adc8de4044d90f",
   "outputs": [],
   "execution_count": null
  }
 ],
 "metadata": {
  "kernelspec": {
   "display_name": "Python 3",
   "language": "python",
   "name": "python3"
  },
  "language_info": {
   "codemirror_mode": {
    "name": "ipython",
    "version": 2
   },
   "file_extension": ".py",
   "mimetype": "text/x-python",
   "name": "python",
   "nbconvert_exporter": "python",
   "pygments_lexer": "ipython2",
   "version": "2.7.6"
  }
 },
 "nbformat": 4,
 "nbformat_minor": 5
}
